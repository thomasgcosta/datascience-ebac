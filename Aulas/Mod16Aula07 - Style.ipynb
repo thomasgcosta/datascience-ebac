{
 "cells": [
  {
   "cell_type": "markdown",
   "metadata": {},
   "source": [
    "- *Method chaining* (encadeamento de métodos)\n",
    "\t- `.assign()`\n",
    "\t- `.pipe()`\n",
    "- `for` vs *List comprehension*\n",
    "- Usando `.apply()`\n",
    "- `.apply(axis = 0)`\n",
    "- Barra de progresso usando `tqdm` \n",
    "- Pandas Profiling para exploração dos dados e para garantir a qualidade dos dados\n",
    "- __Mostrar o dataframe usando o `style`__\n",
    "- Copiar e colar no Excel `.to_clipboard()`\n",
    "- Funções de janela móvel (*window functions*)\n",
    "- Fechamento 2o projeto"
   ]
  },
  {
   "cell_type": "markdown",
   "metadata": {},
   "source": [
    "# Mostrar o dataframe usando o `style`"
   ]
  },
  {
   "cell_type": "code",
   "execution_count": 433,
   "metadata": {},
   "outputs": [
    {
     "data": {
      "text/html": [
       "<div>\n",
       "<style scoped>\n",
       "    .dataframe tbody tr th:only-of-type {\n",
       "        vertical-align: middle;\n",
       "    }\n",
       "\n",
       "    .dataframe tbody tr th {\n",
       "        vertical-align: top;\n",
       "    }\n",
       "\n",
       "    .dataframe thead th {\n",
       "        text-align: right;\n",
       "    }\n",
       "</style>\n",
       "<table border=\"1\" class=\"dataframe\">\n",
       "  <thead>\n",
       "    <tr style=\"text-align: right;\">\n",
       "      <th></th>\n",
       "      <th>Date</th>\n",
       "      <th>Start (ET)</th>\n",
       "      <th>Visitor/Neutral</th>\n",
       "      <th>PTS</th>\n",
       "      <th>Home/Neutral</th>\n",
       "      <th>PTS.1</th>\n",
       "      <th>Unnamed: 6</th>\n",
       "      <th>Unnamed: 7</th>\n",
       "      <th>Attend.</th>\n",
       "      <th>Notes</th>\n",
       "    </tr>\n",
       "  </thead>\n",
       "  <tbody>\n",
       "    <tr>\n",
       "      <th>0</th>\n",
       "      <td>Fri, Jan 1, 2021</td>\n",
       "      <td>7:00p</td>\n",
       "      <td>Memphis Grizzlies</td>\n",
       "      <td>108</td>\n",
       "      <td>Charlotte Hornets</td>\n",
       "      <td>93</td>\n",
       "      <td>Box Score</td>\n",
       "      <td>NaN</td>\n",
       "      <td>0</td>\n",
       "      <td>NaN</td>\n",
       "    </tr>\n",
       "    <tr>\n",
       "      <th>1</th>\n",
       "      <td>Fri, Jan 1, 2021</td>\n",
       "      <td>7:00p</td>\n",
       "      <td>Miami Heat</td>\n",
       "      <td>83</td>\n",
       "      <td>Dallas Mavericks</td>\n",
       "      <td>93</td>\n",
       "      <td>Box Score</td>\n",
       "      <td>NaN</td>\n",
       "      <td>0</td>\n",
       "      <td>NaN</td>\n",
       "    </tr>\n",
       "    <tr>\n",
       "      <th>2</th>\n",
       "      <td>Fri, Jan 1, 2021</td>\n",
       "      <td>7:00p</td>\n",
       "      <td>Boston Celtics</td>\n",
       "      <td>93</td>\n",
       "      <td>Detroit Pistons</td>\n",
       "      <td>96</td>\n",
       "      <td>Box Score</td>\n",
       "      <td>NaN</td>\n",
       "      <td>0</td>\n",
       "      <td>NaN</td>\n",
       "    </tr>\n",
       "    <tr>\n",
       "      <th>3</th>\n",
       "      <td>Fri, Jan 1, 2021</td>\n",
       "      <td>7:30p</td>\n",
       "      <td>Atlanta Hawks</td>\n",
       "      <td>114</td>\n",
       "      <td>Brooklyn Nets</td>\n",
       "      <td>96</td>\n",
       "      <td>Box Score</td>\n",
       "      <td>NaN</td>\n",
       "      <td>0</td>\n",
       "      <td>NaN</td>\n",
       "    </tr>\n",
       "    <tr>\n",
       "      <th>4</th>\n",
       "      <td>Fri, Jan 1, 2021</td>\n",
       "      <td>8:00p</td>\n",
       "      <td>Chicago Bulls</td>\n",
       "      <td>96</td>\n",
       "      <td>Milwaukee Bucks</td>\n",
       "      <td>126</td>\n",
       "      <td>Box Score</td>\n",
       "      <td>NaN</td>\n",
       "      <td>0</td>\n",
       "      <td>NaN</td>\n",
       "    </tr>\n",
       "  </tbody>\n",
       "</table>\n",
       "</div>"
      ],
      "text/plain": [
       "               Date Start (ET)    Visitor/Neutral  PTS       Home/Neutral  \\\n",
       "0  Fri, Jan 1, 2021      7:00p  Memphis Grizzlies  108  Charlotte Hornets   \n",
       "1  Fri, Jan 1, 2021      7:00p         Miami Heat   83   Dallas Mavericks   \n",
       "2  Fri, Jan 1, 2021      7:00p     Boston Celtics   93    Detroit Pistons   \n",
       "3  Fri, Jan 1, 2021      7:30p      Atlanta Hawks  114      Brooklyn Nets   \n",
       "4  Fri, Jan 1, 2021      8:00p      Chicago Bulls   96    Milwaukee Bucks   \n",
       "\n",
       "   PTS.1 Unnamed: 6 Unnamed: 7  Attend.  Notes  \n",
       "0     93  Box Score        NaN        0    NaN  \n",
       "1     93  Box Score        NaN        0    NaN  \n",
       "2     96  Box Score        NaN        0    NaN  \n",
       "3     96  Box Score        NaN        0    NaN  \n",
       "4    126  Box Score        NaN        0    NaN  "
      ]
     },
     "execution_count": 433,
     "metadata": {},
     "output_type": "execute_result"
    }
   ],
   "source": [
    "df.head()"
   ]
  },
  {
   "cell_type": "code",
   "execution_count": 158,
   "metadata": {},
   "outputs": [
    {
     "data": {
      "text/plain": [
       "array([0.02311631, 0.54245524, 0.37480238, 0.02908072, 0.00810977,\n",
       "       0.01192501, 0.01051058])"
      ]
     },
     "execution_count": 158,
     "metadata": {},
     "output_type": "execute_result"
    }
   ],
   "source": [
    "rf.feature_importances_"
   ]
  },
  {
   "cell_type": "code",
   "execution_count": 166,
   "metadata": {},
   "outputs": [
    {
     "name": "stdout",
     "output_type": "stream",
     "text": [
      "Optimization terminated successfully.\n",
      "         Current function value: 0.112400\n",
      "         Iterations 8\n"
     ]
    }
   ],
   "source": [
    "import statsmodels.api as sm\n",
    "import pandas as pd\n",
    " \n",
    "# loading the training dataset\n",
    "df = pd.read_csv('dados.csv')\n",
    "\n",
    "cols = [\n",
    "    'qtd_filhos', 'idade', 'tempo_emprego', 'qt_pessoas_residencia',\n",
    "    'possui_email'\n",
    "]\n",
    "# defining the dependent and independent variables\n",
    "Xtrain = df[cols]\n",
    "ytrain = df[['mau']]\n",
    "  \n",
    "# building the model and fitting the data\n",
    "log_reg = sm.Logit(ytrain, Xtrain).fit()"
   ]
  },
  {
   "cell_type": "code",
   "execution_count": 167,
   "metadata": {},
   "outputs": [
    {
     "data": {
      "text/html": [
       "<table class=\"simpletable\">\n",
       "<caption>Logit Regression Results</caption>\n",
       "<tr>\n",
       "  <th>Dep. Variable:</th>          <td>mau</td>       <th>  No. Observations:  </th>  <td> 16650</td> \n",
       "</tr>\n",
       "<tr>\n",
       "  <th>Model:</th>                 <td>Logit</td>      <th>  Df Residuals:      </th>  <td> 16645</td> \n",
       "</tr>\n",
       "<tr>\n",
       "  <th>Method:</th>                 <td>MLE</td>       <th>  Df Model:          </th>  <td>     4</td> \n",
       "</tr>\n",
       "<tr>\n",
       "  <th>Date:</th>            <td>Thu, 30 Sep 2021</td> <th>  Pseudo R-squ.:     </th> <td>-0.01189</td>\n",
       "</tr>\n",
       "<tr>\n",
       "  <th>Time:</th>                <td>23:04:02</td>     <th>  Log-Likelihood:    </th> <td> -1871.5</td>\n",
       "</tr>\n",
       "<tr>\n",
       "  <th>converged:</th>             <td>True</td>       <th>  LL-Null:           </th> <td> -1849.5</td>\n",
       "</tr>\n",
       "<tr>\n",
       "  <th>Covariance Type:</th>     <td>nonrobust</td>    <th>  LLR p-value:       </th>  <td> 1.000</td> \n",
       "</tr>\n",
       "</table>\n",
       "<table class=\"simpletable\">\n",
       "<tr>\n",
       "            <td></td>               <th>coef</th>     <th>std err</th>      <th>z</th>      <th>P>|z|</th>  <th>[0.025</th>    <th>0.975]</th>  \n",
       "</tr>\n",
       "<tr>\n",
       "  <th>qtd_filhos</th>            <td>    0.8266</td> <td>    0.131</td> <td>    6.290</td> <td> 0.000</td> <td>    0.569</td> <td>    1.084</td>\n",
       "</tr>\n",
       "<tr>\n",
       "  <th>idade</th>                 <td>   -0.0530</td> <td>    0.004</td> <td>  -14.598</td> <td> 0.000</td> <td>   -0.060</td> <td>   -0.046</td>\n",
       "</tr>\n",
       "<tr>\n",
       "  <th>tempo_emprego</th>         <td>   -0.0010</td> <td>    0.000</td> <td>   -5.846</td> <td> 0.000</td> <td>   -0.001</td> <td>   -0.001</td>\n",
       "</tr>\n",
       "<tr>\n",
       "  <th>qt_pessoas_residencia</th> <td>   -0.8893</td> <td>    0.087</td> <td>  -10.271</td> <td> 0.000</td> <td>   -1.059</td> <td>   -0.720</td>\n",
       "</tr>\n",
       "<tr>\n",
       "  <th>possui_email</th>          <td>   -0.3263</td> <td>    0.192</td> <td>   -1.696</td> <td> 0.090</td> <td>   -0.703</td> <td>    0.051</td>\n",
       "</tr>\n",
       "</table>"
      ],
      "text/plain": [
       "<class 'statsmodels.iolib.summary.Summary'>\n",
       "\"\"\"\n",
       "                           Logit Regression Results                           \n",
       "==============================================================================\n",
       "Dep. Variable:                    mau   No. Observations:                16650\n",
       "Model:                          Logit   Df Residuals:                    16645\n",
       "Method:                           MLE   Df Model:                            4\n",
       "Date:                Thu, 30 Sep 2021   Pseudo R-squ.:                -0.01189\n",
       "Time:                        23:04:02   Log-Likelihood:                -1871.5\n",
       "converged:                       True   LL-Null:                       -1849.5\n",
       "Covariance Type:            nonrobust   LLR p-value:                     1.000\n",
       "=========================================================================================\n",
       "                            coef    std err          z      P>|z|      [0.025      0.975]\n",
       "-----------------------------------------------------------------------------------------\n",
       "qtd_filhos                0.8266      0.131      6.290      0.000       0.569       1.084\n",
       "idade                    -0.0530      0.004    -14.598      0.000      -0.060      -0.046\n",
       "tempo_emprego            -0.0010      0.000     -5.846      0.000      -0.001      -0.001\n",
       "qt_pessoas_residencia    -0.8893      0.087    -10.271      0.000      -1.059      -0.720\n",
       "possui_email             -0.3263      0.192     -1.696      0.090      -0.703       0.051\n",
       "=========================================================================================\n",
       "\"\"\""
      ]
     },
     "execution_count": 167,
     "metadata": {},
     "output_type": "execute_result"
    }
   ],
   "source": [
    "log_reg.summary()"
   ]
  },
  {
   "cell_type": "code",
   "execution_count": 168,
   "metadata": {},
   "outputs": [
    {
     "data": {
      "text/plain": [
       "qtd_filhos               0.826553\n",
       "idade                   -0.052973\n",
       "tempo_emprego           -0.000953\n",
       "qt_pessoas_residencia   -0.889271\n",
       "possui_email            -0.326308\n",
       "dtype: float64"
      ]
     },
     "execution_count": 168,
     "metadata": {},
     "output_type": "execute_result"
    }
   ],
   "source": [
    "log_reg.params"
   ]
  },
  {
   "cell_type": "code",
   "execution_count": 435,
   "metadata": {},
   "outputs": [
    {
     "data": {
      "text/html": [
       "<div>\n",
       "<style scoped>\n",
       "    .dataframe tbody tr th:only-of-type {\n",
       "        vertical-align: middle;\n",
       "    }\n",
       "\n",
       "    .dataframe tbody tr th {\n",
       "        vertical-align: top;\n",
       "    }\n",
       "\n",
       "    .dataframe thead th {\n",
       "        text-align: right;\n",
       "    }\n",
       "</style>\n",
       "<table border=\"1\" class=\"dataframe\">\n",
       "  <thead>\n",
       "    <tr style=\"text-align: right;\">\n",
       "      <th></th>\n",
       "      <th>0</th>\n",
       "    </tr>\n",
       "  </thead>\n",
       "  <tbody>\n",
       "    <tr>\n",
       "      <th>qtd_filhos</th>\n",
       "      <td>0.826553</td>\n",
       "    </tr>\n",
       "    <tr>\n",
       "      <th>idade</th>\n",
       "      <td>-0.052973</td>\n",
       "    </tr>\n",
       "    <tr>\n",
       "      <th>tempo_emprego</th>\n",
       "      <td>-0.000953</td>\n",
       "    </tr>\n",
       "    <tr>\n",
       "      <th>qt_pessoas_residencia</th>\n",
       "      <td>-0.889271</td>\n",
       "    </tr>\n",
       "    <tr>\n",
       "      <th>possui_email</th>\n",
       "      <td>-0.326308</td>\n",
       "    </tr>\n",
       "  </tbody>\n",
       "</table>\n",
       "</div>"
      ],
      "text/plain": [
       "                              0\n",
       "qtd_filhos             0.826553\n",
       "idade                 -0.052973\n",
       "tempo_emprego         -0.000953\n",
       "qt_pessoas_residencia -0.889271\n",
       "possui_email          -0.326308"
      ]
     },
     "execution_count": 435,
     "metadata": {},
     "output_type": "execute_result"
    }
   ],
   "source": [
    "log_reg.params.to_frame()"
   ]
  },
  {
   "cell_type": "code",
   "execution_count": 179,
   "metadata": {},
   "outputs": [
    {
     "data": {
      "text/html": [
       "<style  type=\"text/css\" >\n",
       "#T_70f162c1_225c_11ec_a8ab_3065ec717cf8row0_col1{\n",
       "            width:  10em;\n",
       "             height:  80%;\n",
       "            background:  linear-gradient(90deg, transparent 50.0%, lightblue 50.0%, lightblue 96.6%, transparent 96.6%);\n",
       "        }#T_70f162c1_225c_11ec_a8ab_3065ec717cf8row1_col1{\n",
       "            width:  10em;\n",
       "             height:  80%;\n",
       "        }#T_70f162c1_225c_11ec_a8ab_3065ec717cf8row2_col1{\n",
       "            width:  10em;\n",
       "             height:  80%;\n",
       "            background:  linear-gradient(90deg, transparent 47.2%, grey 47.2%, grey 50.0%, transparent 50.0%);\n",
       "        }#T_70f162c1_225c_11ec_a8ab_3065ec717cf8row3_col1{\n",
       "            width:  10em;\n",
       "             height:  80%;\n",
       "            background:  linear-gradient(90deg, transparent 31.5%, grey 31.5%, grey 50.0%, transparent 50.0%);\n",
       "        }#T_70f162c1_225c_11ec_a8ab_3065ec717cf8row4_col1{\n",
       "            width:  10em;\n",
       "             height:  80%;\n",
       "            background:  linear-gradient(90deg,grey 50.0%, transparent 50.0%);\n",
       "        }</style><table id=\"T_70f162c1_225c_11ec_a8ab_3065ec717cf8\" ><thead>    <tr>        <th class=\"blank level0\" ></th>        <th class=\"col_heading level0 col0\" >variavel</th>        <th class=\"col_heading level0 col1\" >coef</th>    </tr></thead><tbody>\n",
       "                <tr>\n",
       "                        <th id=\"T_70f162c1_225c_11ec_a8ab_3065ec717cf8level0_row0\" class=\"row_heading level0 row0\" >0</th>\n",
       "                        <td id=\"T_70f162c1_225c_11ec_a8ab_3065ec717cf8row0_col0\" class=\"data row0 col0\" >qtd_filhos</td>\n",
       "                        <td id=\"T_70f162c1_225c_11ec_a8ab_3065ec717cf8row0_col1\" class=\"data row0 col1\" >0.830000</td>\n",
       "            </tr>\n",
       "            <tr>\n",
       "                        <th id=\"T_70f162c1_225c_11ec_a8ab_3065ec717cf8level0_row1\" class=\"row_heading level0 row1\" >2</th>\n",
       "                        <td id=\"T_70f162c1_225c_11ec_a8ab_3065ec717cf8row1_col0\" class=\"data row1 col0\" >tempo_emprego</td>\n",
       "                        <td id=\"T_70f162c1_225c_11ec_a8ab_3065ec717cf8row1_col1\" class=\"data row1 col1\" >-0.000000</td>\n",
       "            </tr>\n",
       "            <tr>\n",
       "                        <th id=\"T_70f162c1_225c_11ec_a8ab_3065ec717cf8level0_row2\" class=\"row_heading level0 row2\" >1</th>\n",
       "                        <td id=\"T_70f162c1_225c_11ec_a8ab_3065ec717cf8row2_col0\" class=\"data row2 col0\" >idade</td>\n",
       "                        <td id=\"T_70f162c1_225c_11ec_a8ab_3065ec717cf8row2_col1\" class=\"data row2 col1\" >-0.050000</td>\n",
       "            </tr>\n",
       "            <tr>\n",
       "                        <th id=\"T_70f162c1_225c_11ec_a8ab_3065ec717cf8level0_row3\" class=\"row_heading level0 row3\" >4</th>\n",
       "                        <td id=\"T_70f162c1_225c_11ec_a8ab_3065ec717cf8row3_col0\" class=\"data row3 col0\" >possui_email</td>\n",
       "                        <td id=\"T_70f162c1_225c_11ec_a8ab_3065ec717cf8row3_col1\" class=\"data row3 col1\" >-0.330000</td>\n",
       "            </tr>\n",
       "            <tr>\n",
       "                        <th id=\"T_70f162c1_225c_11ec_a8ab_3065ec717cf8level0_row4\" class=\"row_heading level0 row4\" >3</th>\n",
       "                        <td id=\"T_70f162c1_225c_11ec_a8ab_3065ec717cf8row4_col0\" class=\"data row4 col0\" >qt_pessoas_residencia</td>\n",
       "                        <td id=\"T_70f162c1_225c_11ec_a8ab_3065ec717cf8row4_col1\" class=\"data row4 col1\" >-0.890000</td>\n",
       "            </tr>\n",
       "    </tbody></table>"
      ],
      "text/plain": [
       "<pandas.io.formats.style.Styler at 0x16a0e763fd0>"
      ]
     },
     "execution_count": 179,
     "metadata": {},
     "output_type": "execute_result"
    }
   ],
   "source": [
    "(log_reg.params.to_frame()\n",
    "    .reset_index()\n",
    "    .rename(columns={'index':'variavel',0:'coef'})\n",
    "    .round(decimals=2) \n",
    "    .sort_values('coef', ascending=False) \n",
    "    .style.bar(color=['grey', 'lightblue'], align='zero'))"
   ]
  },
  {
   "cell_type": "code",
   "execution_count": 180,
   "metadata": {},
   "outputs": [
    {
     "name": "stdout",
     "output_type": "stream",
     "text": [
      "Feature importances:  [0.02257886 0.54129561 0.37765658 0.02648431 0.00740548 0.01167299\n",
      " 0.01290618]\n",
      "Variáveis:  ['qtd_filhos', 'idade', 'tempo_emprego', 'qt_pessoas_residencia', 'possui_email', 'possui_fone', 'possui_fone_comercial']\n"
     ]
    }
   ],
   "source": [
    "import pandas as pd\n",
    "from sklearn.ensemble import RandomForestClassifier\n",
    "\n",
    "df = pd.read_csv('dados.csv')\n",
    "\n",
    "rf = RandomForestClassifier()\n",
    "cols = [\n",
    "    'qtd_filhos', 'idade', 'tempo_emprego', 'qt_pessoas_residencia',\n",
    "    'possui_email', 'possui_fone', 'possui_fone_comercial'\n",
    "]\n",
    "rf.fit(df[cols], df['mau'])\n",
    "\n",
    "print('Feature importances: ',rf.feature_importances_)\n",
    "print('Variáveis: ',cols)"
   ]
  },
  {
   "cell_type": "code",
   "execution_count": 182,
   "metadata": {},
   "outputs": [
    {
     "data": {
      "text/html": [
       "<style  type=\"text/css\" >\n",
       "#T_a19cbde7_225c_11ec_9455_3065ec717cf8row0_col1{\n",
       "            width:  10em;\n",
       "             height:  80%;\n",
       "            background:  linear-gradient(90deg, transparent 50.0%, lightblue 50.0%, lightblue 100.0%, transparent 100.0%);\n",
       "        }#T_a19cbde7_225c_11ec_9455_3065ec717cf8row1_col1{\n",
       "            width:  10em;\n",
       "             height:  80%;\n",
       "            background:  linear-gradient(90deg, transparent 50.0%, lightblue 50.0%, lightblue 85.2%, transparent 85.2%);\n",
       "        }#T_a19cbde7_225c_11ec_9455_3065ec717cf8row2_col1{\n",
       "            width:  10em;\n",
       "             height:  80%;\n",
       "            background:  linear-gradient(90deg, transparent 50.0%, lightblue 50.0%, lightblue 52.8%, transparent 52.8%);\n",
       "        }#T_a19cbde7_225c_11ec_9455_3065ec717cf8row3_col1{\n",
       "            width:  10em;\n",
       "             height:  80%;\n",
       "            background:  linear-gradient(90deg, transparent 50.0%, lightblue 50.0%, lightblue 51.9%, transparent 51.9%);\n",
       "        }#T_a19cbde7_225c_11ec_9455_3065ec717cf8row4_col1,#T_a19cbde7_225c_11ec_9455_3065ec717cf8row5_col1,#T_a19cbde7_225c_11ec_9455_3065ec717cf8row6_col1{\n",
       "            width:  10em;\n",
       "             height:  80%;\n",
       "            background:  linear-gradient(90deg, transparent 50.0%, lightblue 50.0%, lightblue 50.9%, transparent 50.9%);\n",
       "        }</style><table id=\"T_a19cbde7_225c_11ec_9455_3065ec717cf8\" ><thead>    <tr>        <th class=\"blank level0\" ></th>        <th class=\"col_heading level0 col0\" >variavel</th>        <th class=\"col_heading level0 col1\" >featimp</th>    </tr></thead><tbody>\n",
       "                <tr>\n",
       "                        <th id=\"T_a19cbde7_225c_11ec_9455_3065ec717cf8level0_row0\" class=\"row_heading level0 row0\" >1</th>\n",
       "                        <td id=\"T_a19cbde7_225c_11ec_9455_3065ec717cf8row0_col0\" class=\"data row0 col0\" >idade</td>\n",
       "                        <td id=\"T_a19cbde7_225c_11ec_9455_3065ec717cf8row0_col1\" class=\"data row0 col1\" >0.540000</td>\n",
       "            </tr>\n",
       "            <tr>\n",
       "                        <th id=\"T_a19cbde7_225c_11ec_9455_3065ec717cf8level0_row1\" class=\"row_heading level0 row1\" >2</th>\n",
       "                        <td id=\"T_a19cbde7_225c_11ec_9455_3065ec717cf8row1_col0\" class=\"data row1 col0\" >tempo_emprego</td>\n",
       "                        <td id=\"T_a19cbde7_225c_11ec_9455_3065ec717cf8row1_col1\" class=\"data row1 col1\" >0.380000</td>\n",
       "            </tr>\n",
       "            <tr>\n",
       "                        <th id=\"T_a19cbde7_225c_11ec_9455_3065ec717cf8level0_row2\" class=\"row_heading level0 row2\" >3</th>\n",
       "                        <td id=\"T_a19cbde7_225c_11ec_9455_3065ec717cf8row2_col0\" class=\"data row2 col0\" >qt_pessoas_residencia</td>\n",
       "                        <td id=\"T_a19cbde7_225c_11ec_9455_3065ec717cf8row2_col1\" class=\"data row2 col1\" >0.030000</td>\n",
       "            </tr>\n",
       "            <tr>\n",
       "                        <th id=\"T_a19cbde7_225c_11ec_9455_3065ec717cf8level0_row3\" class=\"row_heading level0 row3\" >0</th>\n",
       "                        <td id=\"T_a19cbde7_225c_11ec_9455_3065ec717cf8row3_col0\" class=\"data row3 col0\" >qtd_filhos</td>\n",
       "                        <td id=\"T_a19cbde7_225c_11ec_9455_3065ec717cf8row3_col1\" class=\"data row3 col1\" >0.020000</td>\n",
       "            </tr>\n",
       "            <tr>\n",
       "                        <th id=\"T_a19cbde7_225c_11ec_9455_3065ec717cf8level0_row4\" class=\"row_heading level0 row4\" >4</th>\n",
       "                        <td id=\"T_a19cbde7_225c_11ec_9455_3065ec717cf8row4_col0\" class=\"data row4 col0\" >possui_email</td>\n",
       "                        <td id=\"T_a19cbde7_225c_11ec_9455_3065ec717cf8row4_col1\" class=\"data row4 col1\" >0.010000</td>\n",
       "            </tr>\n",
       "            <tr>\n",
       "                        <th id=\"T_a19cbde7_225c_11ec_9455_3065ec717cf8level0_row5\" class=\"row_heading level0 row5\" >5</th>\n",
       "                        <td id=\"T_a19cbde7_225c_11ec_9455_3065ec717cf8row5_col0\" class=\"data row5 col0\" >possui_fone</td>\n",
       "                        <td id=\"T_a19cbde7_225c_11ec_9455_3065ec717cf8row5_col1\" class=\"data row5 col1\" >0.010000</td>\n",
       "            </tr>\n",
       "            <tr>\n",
       "                        <th id=\"T_a19cbde7_225c_11ec_9455_3065ec717cf8level0_row6\" class=\"row_heading level0 row6\" >6</th>\n",
       "                        <td id=\"T_a19cbde7_225c_11ec_9455_3065ec717cf8row6_col0\" class=\"data row6 col0\" >possui_fone_comercial</td>\n",
       "                        <td id=\"T_a19cbde7_225c_11ec_9455_3065ec717cf8row6_col1\" class=\"data row6 col1\" >0.010000</td>\n",
       "            </tr>\n",
       "    </tbody></table>"
      ],
      "text/plain": [
       "<pandas.io.formats.style.Styler at 0x16a0e762b20>"
      ]
     },
     "execution_count": 182,
     "metadata": {},
     "output_type": "execute_result"
    }
   ],
   "source": [
    "(pd.DataFrame({\n",
    "            'variavel': cols,\n",
    "            'featimp': rf.feature_importances_}) \n",
    "    .round(decimals=2) \n",
    "    .sort_values('featimp', ascending=False) \n",
    "    .style.bar(color=['lightblue'], align='zero'))"
   ]
  },
  {
   "cell_type": "code",
   "execution_count": null,
   "metadata": {},
   "outputs": [],
   "source": []
  }
 ],
 "metadata": {
  "kernelspec": {
   "display_name": "Python 3",
   "language": "python",
   "name": "python3"
  },
  "language_info": {
   "codemirror_mode": {
    "name": "ipython",
    "version": 3
   },
   "file_extension": ".py",
   "mimetype": "text/x-python",
   "name": "python",
   "nbconvert_exporter": "python",
   "pygments_lexer": "ipython3",
   "version": "3.8.5"
  },
  "varInspector": {
   "cols": {
    "lenName": 16,
    "lenType": 16,
    "lenVar": 40
   },
   "kernels_config": {
    "python": {
     "delete_cmd_postfix": "",
     "delete_cmd_prefix": "del ",
     "library": "var_list.py",
     "varRefreshCmd": "print(var_dic_list())"
    },
    "r": {
     "delete_cmd_postfix": ") ",
     "delete_cmd_prefix": "rm(",
     "library": "var_list.r",
     "varRefreshCmd": "cat(var_dic_list()) "
    }
   },
   "types_to_exclude": [
    "module",
    "function",
    "builtin_function_or_method",
    "instance",
    "_Feature"
   ],
   "window_display": false
  }
 },
 "nbformat": 4,
 "nbformat_minor": 4
}
