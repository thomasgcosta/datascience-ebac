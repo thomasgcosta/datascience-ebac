{
 "cells": [
  {
   "cell_type": "markdown",
   "metadata": {
    "id": "KJqp9AANOCtf"
   },
   "source": [
    "<img src=\"https://raw.githubusercontent.com/andre-marcos-perez/ebac-course-utils/main/media/logo/newebac_logo_black_half.png\" alt=\"ebac-logo\">\n",
    "\n",
    "---\n",
    "\n",
    "# **Módulo 01** | Python: Variáveis & Tipos de Dados\n",
    "Caderno de **Exercícios**<br> \n",
    "Professor [André Perez](https://www.linkedin.com/in/andremarcosperez/)\n",
    "\n",
    "---"
   ]
  },
  {
   "cell_type": "markdown",
   "metadata": {
    "id": "d9jDtUbDOE1-"
   },
   "source": [
    "# **Tópicos**\n",
    "\n",
    "<ol type=\"1\">\n",
    "  <li>Introdução ao Google Colab;</li>\n",
    "  <li>Variáveis;</li>\n",
    "  <li>Números;</li>\n",
    "  <li><i>Strings;</i></li>\n",
    "  <li>Boleanos.</li>\n",
    "</ol>"
   ]
  },
  {
   "cell_type": "markdown",
   "metadata": {
    "id": "SmoHgt-lwkpD"
   },
   "source": [
    "---"
   ]
  },
  {
   "cell_type": "markdown",
   "metadata": {
    "id": "GABI6OW8OfQ2"
   },
   "source": [
    "# **Exercícios**"
   ]
  },
  {
   "cell_type": "markdown",
   "metadata": {
    "id": "muD1vxozykSC"
   },
   "source": [
    "## 1\\. Google Colab"
   ]
  },
  {
   "cell_type": "markdown",
   "metadata": {
    "id": "ahrFfCuBxJKs"
   },
   "source": [
    "Crie uma célula de código que escreva o texto \"Olá mundo!\", utilize o comando `print`."
   ]
  },
  {
   "cell_type": "code",
   "execution_count": 20,
   "metadata": {},
   "outputs": [
    {
     "name": "stdout",
     "output_type": "stream",
     "text": [
      "Olá mundo!\n"
     ]
    }
   ],
   "source": [
    "print(\"Olá mundo!\")"
   ]
  },
  {
   "cell_type": "markdown",
   "metadata": {
    "id": "KI9zQRT2xa7m"
   },
   "source": [
    "Crie uma célula de texto e adicione uma imagem."
   ]
  },
  {
   "cell_type": "markdown",
   "metadata": {},
   "source": [
    "<img src=\"windows.jpg\" style=\"width:280px;height:224px\">"
   ]
  },
  {
   "cell_type": "markdown",
   "metadata": {
    "id": "zMN1Q3jdwoJm"
   },
   "source": [
    "---"
   ]
  },
  {
   "cell_type": "markdown",
   "metadata": {
    "id": "tFYOPLS3xiwe"
   },
   "source": [
    "## 2\\. Números"
   ]
  },
  {
   "cell_type": "markdown",
   "metadata": {
    "id": "O2G9gt7tx2c-"
   },
   "source": [
    "Preencha as células de código para preencher os valores de (A), (B) e (C) na tabela de ticket médio abaixo:\n",
    "\n",
    "<br>\n",
    "\n",
    "| Dia   | Valor Total Vendas | Qtd Total Vendas | Ticket Medio |\n",
    "|-------|--------------------|------------------|--------------|\n",
    "| 19/01 | (A)                | 3                | 320.52       |\n",
    "| 20/01 | 834.47             | (B)              | 119.21       |\n",
    "| 23/01 | 15378.12           | 5                | (C)          |"
   ]
  },
  {
   "cell_type": "code",
   "execution_count": 15,
   "metadata": {
    "id": "nsrKH9EizNRD"
   },
   "outputs": [
    {
     "name": "stdout",
     "output_type": "stream",
     "text": [
      "106.84\n"
     ]
    }
   ],
   "source": [
    "tktMedio = 320.52\n",
    "qTotalVendas = 3\n",
    "\n",
    "vTotalVendas_19 = tktMedio/qTotalVendas\n",
    "print(round(vTotalVendas_19,2))"
   ]
  },
  {
   "cell_type": "code",
   "execution_count": 16,
   "metadata": {
    "id": "QQ1GBGHJzMmi"
   },
   "outputs": [
    {
     "name": "stdout",
     "output_type": "stream",
     "text": [
      "7\n"
     ]
    }
   ],
   "source": [
    "vTotalVendas = 834.47\n",
    "tktMedio = 119.21\n",
    "\n",
    "qTotalVendas_20 = vTotalVendas/tktMedio\n",
    "print(round(qTotalVendas_20))"
   ]
  },
  {
   "cell_type": "code",
   "execution_count": 17,
   "metadata": {
    "id": "W-li0nSMzKNa"
   },
   "outputs": [
    {
     "name": "stdout",
     "output_type": "stream",
     "text": [
      "3075.62\n"
     ]
    }
   ],
   "source": [
    "vTotalVendas = 15378.12\n",
    "qTotalVendas = 5\n",
    "\n",
    "tktMedio_23 = vTotalVendas/qTotalVendas\n",
    "print(round(tktMedio_23,2))"
   ]
  },
  {
   "cell_type": "markdown",
   "metadata": {
    "id": "3eoP-Vj9yzh8"
   },
   "source": [
    "---"
   ]
  },
  {
   "cell_type": "markdown",
   "metadata": {
    "id": "yUJ6kdony6Pr"
   },
   "source": [
    "## 3\\. Strings"
   ]
  },
  {
   "cell_type": "markdown",
   "metadata": {
    "id": "KDuZpg-5zCvO"
   },
   "source": [
    "Aplique três métodos distintos na *string* abaixo, você pode conferir alguns métodos neste [link](https://www.w3schools.com/python/python_ref_string.asp):"
   ]
  },
  {
   "cell_type": "code",
   "execution_count": 3,
   "metadata": {
    "id": "k9zbyf7BzjKj"
   },
   "outputs": [],
   "source": [
    "cancao = 'Roda mundo, roda gigante, roda moinho, roda pião.'"
   ]
  },
  {
   "cell_type": "code",
   "execution_count": 18,
   "metadata": {},
   "outputs": [
    {
     "name": "stdout",
     "output_type": "stream",
     "text": [
      "['Roda', 'mundo,', 'roda', 'gigante,', 'roda', 'moinho,', 'roda', 'pião.']\n",
      "RODA MUNDO, RODA GIGANTE, RODA MOINHO, RODA PIÃO.\n",
      "('Roda mundo, ', 'roda', ' gigante, roda moinho, roda pião.')\n"
     ]
    }
   ],
   "source": [
    "x = cancao.split()\n",
    "print(x)\n",
    "x = cancao.upper()\n",
    "print(x)\n",
    "x = cancao.partition(\"roda\")\n",
    "print(x)"
   ]
  },
  {
   "cell_type": "markdown",
   "metadata": {
    "id": "guZMHXVq0FnC"
   },
   "source": [
    "Extraia da string abaixo o valor da taxa **selic** na variável `selic` e o valor do **ano** na variavel `ano`. Imprima os valores na tela."
   ]
  },
  {
   "cell_type": "code",
   "execution_count": 10,
   "metadata": {
    "id": "cbx_P4IQ0agK"
   },
   "outputs": [],
   "source": [
    "noticia = 'Selic vai a 2,75% e supera expectativas; é a primeira alta em 6 anos.'"
   ]
  },
  {
   "cell_type": "code",
   "execution_count": 19,
   "metadata": {},
   "outputs": [
    {
     "name": "stdout",
     "output_type": "stream",
     "text": [
      "2,75% 6\n"
     ]
    }
   ],
   "source": [
    "valor = noticia.split(\" \")\n",
    "selic = valor[3]\n",
    "ano = valor[12]\n",
    "print(selic, ano)"
   ]
  },
  {
   "cell_type": "markdown",
   "metadata": {
    "id": "wWzbu-OC0z3L"
   },
   "source": [
    "---"
   ]
  },
  {
   "cell_type": "markdown",
   "metadata": {
    "id": "no8w_Ati01xP"
   },
   "source": [
    "## 4\\. Booleanos"
   ]
  },
  {
   "cell_type": "markdown",
   "metadata": {
    "id": "D_0tC3SC099N"
   },
   "source": [
    "Utilize a tabela da verdade para responder: qual o valor da variável x?"
   ]
  },
  {
   "cell_type": "code",
   "execution_count": 12,
   "metadata": {
    "id": "XwIEbxf91SpU"
   },
   "outputs": [],
   "source": [
    "a = False\n",
    "b = True\n",
    "\n",
    "x = not a & b"
   ]
  },
  {
   "cell_type": "code",
   "execution_count": 13,
   "metadata": {},
   "outputs": [
    {
     "name": "stdout",
     "output_type": "stream",
     "text": [
      "True\n"
     ]
    }
   ],
   "source": [
    "print(x)"
   ]
  },
  {
   "cell_type": "code",
   "execution_count": 14,
   "metadata": {},
   "outputs": [
    {
     "name": "stdout",
     "output_type": "stream",
     "text": [
      "True\n"
     ]
    }
   ],
   "source": [
    "print(not(True & False))"
   ]
  }
 ],
 "metadata": {
  "colab": {
   "name": "module_1_exercise.ipynb",
   "provenance": [],
   "toc_visible": true
  },
  "kernelspec": {
   "display_name": "Python 3 (ipykernel)",
   "language": "python",
   "name": "python3"
  },
  "language_info": {
   "codemirror_mode": {
    "name": "ipython",
    "version": 3
   },
   "file_extension": ".py",
   "mimetype": "text/x-python",
   "name": "python",
   "nbconvert_exporter": "python",
   "pygments_lexer": "ipython3",
   "version": "3.10.9"
  }
 },
 "nbformat": 4,
 "nbformat_minor": 1
}
