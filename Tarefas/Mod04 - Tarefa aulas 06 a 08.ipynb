{
 "cells": [
  {
   "attachments": {},
   "cell_type": "markdown",
   "metadata": {},
   "source": [
    "# Tarefa 03\n",
    "\n",
    "- Leia os enunciados com atenção\n",
    "- Saiba que pode haver mais de uma resposta correta\n",
    "- Insira novas células de código sempre que achar necessário\n",
    "- Em caso de dúvidas, procure os Tutores\n",
    "- Divirta-se :)"
   ]
  },
  {
   "cell_type": "code",
   "execution_count": 1,
   "metadata": {},
   "outputs": [],
   "source": [
    "import pandas as pd\n",
    "import requests"
   ]
  },
  {
   "attachments": {},
   "cell_type": "markdown",
   "metadata": {},
   "source": [
    "####  1) Lendo de APIs\n",
    "Vimos em aula como carregar dados públicos do governo através de um API (*Application Programming Interface*). No exemplo de aula, baixamos os dados de pedidos de verificação de limites (PVL) realizados por estados, e selecionamos apenas aqueles referentes ao estado de São Paulo.\n",
    "\n",
    "1. Repita os mesmos passos feitos em aula, mas selecione os PVLs realizados por municípios no estado do Rio de Janeiro.\n",
    "2. Quais são os três *status* das solicitações mais frequentes na base? Quais são suas frequências?\n",
    "3. Construa uma nova variável que contenha o ano do **status**. Observe que ```data_status``` vem como tipo *object* no **DataFrame**. Dica: você pode usar o método ```.str``` para transformar o tipo da variável em string, em seguida um método como [**slice()**](https://pandas.pydata.org/docs/reference/api/pandas.Series.str.slice.html) ou [**split()**](https://pandas.pydata.org/pandas-docs/stable/reference/api/pandas.Series.str.split.html).\n",
    "4. Indique a frequência de cada ano do campo construído no item (3)."
   ]
  },
  {
   "cell_type": "code",
   "execution_count": 40,
   "metadata": {},
   "outputs": [
    {
     "data": {
      "text/html": [
       "<div>\n",
       "<style scoped>\n",
       "    .dataframe tbody tr th:only-of-type {\n",
       "        vertical-align: middle;\n",
       "    }\n",
       "\n",
       "    .dataframe tbody tr th {\n",
       "        vertical-align: top;\n",
       "    }\n",
       "\n",
       "    .dataframe thead th {\n",
       "        text-align: right;\n",
       "    }\n",
       "</style>\n",
       "<table border=\"1\" class=\"dataframe\">\n",
       "  <thead>\n",
       "    <tr style=\"text-align: right;\">\n",
       "      <th></th>\n",
       "      <th>id_pleito</th>\n",
       "      <th>tipo_interessado</th>\n",
       "      <th>interessado</th>\n",
       "      <th>cod_ibge</th>\n",
       "      <th>uf</th>\n",
       "      <th>num_pvl</th>\n",
       "      <th>status</th>\n",
       "      <th>num_processo</th>\n",
       "      <th>data_protocolo</th>\n",
       "      <th>tipo_operacao</th>\n",
       "      <th>finalidade</th>\n",
       "      <th>tipo_credor</th>\n",
       "      <th>credor</th>\n",
       "      <th>moeda</th>\n",
       "      <th>valor</th>\n",
       "      <th>pvl_assoc_divida</th>\n",
       "      <th>pvl_contradado_credor</th>\n",
       "      <th>data_status</th>\n",
       "    </tr>\n",
       "  </thead>\n",
       "  <tbody>\n",
       "    <tr>\n",
       "      <th>0</th>\n",
       "      <td>13560</td>\n",
       "      <td>Estado</td>\n",
       "      <td>Rio de Janeiro</td>\n",
       "      <td>33</td>\n",
       "      <td>RJ</td>\n",
       "      <td>None</td>\n",
       "      <td>Deferido</td>\n",
       "      <td>19405.000026/2002-01</td>\n",
       "      <td>2002-06-25T03:00:00Z</td>\n",
       "      <td>Operação contratual interna</td>\n",
       "      <td>Infraestrutura</td>\n",
       "      <td>Instituição Financeira Nacional</td>\n",
       "      <td>Banco Nacional de Desenvolvimento Econômico e ...</td>\n",
       "      <td>Real</td>\n",
       "      <td>49942.0</td>\n",
       "      <td>1</td>\n",
       "      <td>0</td>\n",
       "      <td>27/06/2002</td>\n",
       "    </tr>\n",
       "    <tr>\n",
       "      <th>1</th>\n",
       "      <td>5918</td>\n",
       "      <td>Estado</td>\n",
       "      <td>Rio de Janeiro</td>\n",
       "      <td>33</td>\n",
       "      <td>RJ</td>\n",
       "      <td>None</td>\n",
       "      <td>Encaminhado à PGFN com manifestação técnica fa...</td>\n",
       "      <td>17944.000233/2012-05</td>\n",
       "      <td>2012-04-16T03:00:00Z</td>\n",
       "      <td>Operação contratual externa (com garantia da U...</td>\n",
       "      <td>Infraestrutura</td>\n",
       "      <td>Instituição Financeira Internacional</td>\n",
       "      <td>Corporação Andina de Fomento</td>\n",
       "      <td>Dólar dos EUA</td>\n",
       "      <td>319675000.0</td>\n",
       "      <td>1</td>\n",
       "      <td>0</td>\n",
       "      <td>11/03/2016</td>\n",
       "    </tr>\n",
       "    <tr>\n",
       "      <th>2</th>\n",
       "      <td>13624</td>\n",
       "      <td>Estado</td>\n",
       "      <td>Rio de Janeiro</td>\n",
       "      <td>33</td>\n",
       "      <td>RJ</td>\n",
       "      <td>None</td>\n",
       "      <td>Deferido</td>\n",
       "      <td>19405.000039/2002-72</td>\n",
       "      <td>2002-06-20T03:00:00Z</td>\n",
       "      <td>Operação contratual interna</td>\n",
       "      <td>Infraestrutura</td>\n",
       "      <td>Instituição Financeira Nacional</td>\n",
       "      <td>Banco Nacional de Desenvolvimento Econômico e ...</td>\n",
       "      <td>Real</td>\n",
       "      <td>67482400.0</td>\n",
       "      <td>1</td>\n",
       "      <td>0</td>\n",
       "      <td>27/06/2002</td>\n",
       "    </tr>\n",
       "    <tr>\n",
       "      <th>3</th>\n",
       "      <td>10562</td>\n",
       "      <td>Estado</td>\n",
       "      <td>Rio de Janeiro</td>\n",
       "      <td>33</td>\n",
       "      <td>RJ</td>\n",
       "      <td>None</td>\n",
       "      <td>Encaminhado à PGFN com manifestação técnica fa...</td>\n",
       "      <td>17944.001228/2013-92</td>\n",
       "      <td>2013-10-22T02:00:00Z</td>\n",
       "      <td>Operação contratual externa (com garantia da U...</td>\n",
       "      <td>Infraestrutura</td>\n",
       "      <td>Instituição Financeira Internacional</td>\n",
       "      <td>Banco Internacional para Reconstrução e Desenv...</td>\n",
       "      <td>Dólar dos EUA</td>\n",
       "      <td>500000000.0</td>\n",
       "      <td>1</td>\n",
       "      <td>0</td>\n",
       "      <td>27/12/2013</td>\n",
       "    </tr>\n",
       "    <tr>\n",
       "      <th>4</th>\n",
       "      <td>12375</td>\n",
       "      <td>Estado</td>\n",
       "      <td>Rio de Janeiro</td>\n",
       "      <td>33</td>\n",
       "      <td>RJ</td>\n",
       "      <td>None</td>\n",
       "      <td>Encaminhado à PGFN com manifestação técnica fa...</td>\n",
       "      <td>17944.001671/2011-00</td>\n",
       "      <td>2011-10-18T02:00:00Z</td>\n",
       "      <td>Operação contratual externa (com garantia da U...</td>\n",
       "      <td>Preservação e recuperação ambiental</td>\n",
       "      <td>Instituição Financeira Internacional</td>\n",
       "      <td>Banco Interamericano de Desenvolvimento</td>\n",
       "      <td>Dólar dos EUA</td>\n",
       "      <td>451980000.0</td>\n",
       "      <td>1</td>\n",
       "      <td>0</td>\n",
       "      <td>27/12/2011</td>\n",
       "    </tr>\n",
       "  </tbody>\n",
       "</table>\n",
       "</div>"
      ],
      "text/plain": [
       "   id_pleito tipo_interessado     interessado  cod_ibge  uf num_pvl  \\\n",
       "0      13560           Estado  Rio de Janeiro        33  RJ    None   \n",
       "1       5918           Estado  Rio de Janeiro        33  RJ    None   \n",
       "2      13624           Estado  Rio de Janeiro        33  RJ    None   \n",
       "3      10562           Estado  Rio de Janeiro        33  RJ    None   \n",
       "4      12375           Estado  Rio de Janeiro        33  RJ    None   \n",
       "\n",
       "                                              status          num_processo  \\\n",
       "0                                           Deferido  19405.000026/2002-01   \n",
       "1  Encaminhado à PGFN com manifestação técnica fa...  17944.000233/2012-05   \n",
       "2                                           Deferido  19405.000039/2002-72   \n",
       "3  Encaminhado à PGFN com manifestação técnica fa...  17944.001228/2013-92   \n",
       "4  Encaminhado à PGFN com manifestação técnica fa...  17944.001671/2011-00   \n",
       "\n",
       "         data_protocolo                                      tipo_operacao  \\\n",
       "0  2002-06-25T03:00:00Z                        Operação contratual interna   \n",
       "1  2012-04-16T03:00:00Z  Operação contratual externa (com garantia da U...   \n",
       "2  2002-06-20T03:00:00Z                        Operação contratual interna   \n",
       "3  2013-10-22T02:00:00Z  Operação contratual externa (com garantia da U...   \n",
       "4  2011-10-18T02:00:00Z  Operação contratual externa (com garantia da U...   \n",
       "\n",
       "                            finalidade                           tipo_credor  \\\n",
       "0                       Infraestrutura       Instituição Financeira Nacional   \n",
       "1                       Infraestrutura  Instituição Financeira Internacional   \n",
       "2                       Infraestrutura       Instituição Financeira Nacional   \n",
       "3                       Infraestrutura  Instituição Financeira Internacional   \n",
       "4  Preservação e recuperação ambiental  Instituição Financeira Internacional   \n",
       "\n",
       "                                              credor          moeda  \\\n",
       "0  Banco Nacional de Desenvolvimento Econômico e ...           Real   \n",
       "1                       Corporação Andina de Fomento  Dólar dos EUA   \n",
       "2  Banco Nacional de Desenvolvimento Econômico e ...           Real   \n",
       "3  Banco Internacional para Reconstrução e Desenv...  Dólar dos EUA   \n",
       "4            Banco Interamericano de Desenvolvimento  Dólar dos EUA   \n",
       "\n",
       "         valor  pvl_assoc_divida  pvl_contradado_credor data_status  \n",
       "0      49942.0                 1                      0  27/06/2002  \n",
       "1  319675000.0                 1                      0  11/03/2016  \n",
       "2   67482400.0                 1                      0  27/06/2002  \n",
       "3  500000000.0                 1                      0  27/12/2013  \n",
       "4  451980000.0                 1                      0  27/12/2011  "
      ]
     },
     "execution_count": 40,
     "metadata": {},
     "output_type": "execute_result"
    }
   ],
   "source": [
    "# 1) Seu código aqui\n",
    "url = 'http://apidatalake.tesouro.gov.br/ords/sadipem/tt/pvl?uf=RJ&tipo_interessado=Estado'\n",
    "r = requests.get(url)\n",
    "data_json = r.json()\n",
    "df = pd.DataFrame(data_json['items'])\n",
    "df.head()"
   ]
  },
  {
   "cell_type": "code",
   "execution_count": 12,
   "metadata": {},
   "outputs": [
    {
     "data": {
      "text/plain": [
       "Encaminhado à PGFN com manifestação técnica favorável    34\n",
       "Deferido                                                 14\n",
       "Arquivado a pedido                                        3\n",
       "Name: status, dtype: int64"
      ]
     },
     "execution_count": 12,
     "metadata": {},
     "output_type": "execute_result"
    }
   ],
   "source": [
    "# 2) Seu código aqui\n",
    "status = df.status.value_counts()\n",
    "status.head(3)"
   ]
  },
  {
   "cell_type": "code",
   "execution_count": 24,
   "metadata": {},
   "outputs": [],
   "source": [
    "# 3) Seu código aqui\n",
    "df['Ano'] = df['data_status'].str.split('/').str[-1]"
   ]
  },
  {
   "cell_type": "code",
   "execution_count": 25,
   "metadata": {},
   "outputs": [
    {
     "data": {
      "text/plain": [
       "2012    11\n",
       "2009     9\n",
       "2013     7\n",
       "2011     6\n",
       "2002     4\n",
       "2016     4\n",
       "2014     4\n",
       "2010     3\n",
       "2006     2\n",
       "2008     2\n",
       "Name: Ano, dtype: int64"
      ]
     },
     "execution_count": 25,
     "metadata": {},
     "output_type": "execute_result"
    }
   ],
   "source": [
    "# 4) Seu código aqui\n",
    "df['Ano'].value_counts()"
   ]
  },
  {
   "attachments": {},
   "cell_type": "markdown",
   "metadata": {},
   "source": [
    "####  2) Melhorando a interação com o API\n",
    "Observe dois URLs de consultas diferentes, por exemplo o URL utilizado em aula, e o URL feito no exercício anterior. Compare-os e observe as diferenças.\n",
    "\n",
    "1. Faça uma função em Python que recebe como argumento o UF da consulta e o tipo de interessado (```'Estado'```ou ```Município```), e que devolve os dados da consulta no formato *DataFrame*.\n",
    "2. Quantas solicitações para o Estado podem ser consultadas para Minas Gerais com *status* em 'Arquivado por decurso de prazo' estão registradas?\n",
    "3. Qual é o município da Bahia com mais solicitações deferidas?\n",
    "4. Salve um arquivo .csv com os dados de solicitações da Bahia, com interessado = 'Estado'"
   ]
  },
  {
   "cell_type": "code",
   "execution_count": 2,
   "metadata": {},
   "outputs": [],
   "source": [
    "#1) Seu código aqui\n",
    "def consulta_api(uf:str,tipo_interessado:str):\n",
    "    url = f'http://apidatalake.tesouro.gov.br/ords/sadipem/tt/pvl?uf={uf}&tipo_interessado={tipo_interessado}'\n",
    "    r = requests.get(url)\n",
    "    data_json = r.json()\n",
    "    df = pd.DataFrame(data_json['items'])\n",
    "    return df"
   ]
  },
  {
   "cell_type": "code",
   "execution_count": 23,
   "metadata": {},
   "outputs": [
    {
     "data": {
      "text/plain": [
       "Arquivado por decurso de prazo    1\n",
       "Name: status, dtype: int64"
      ]
     },
     "execution_count": 23,
     "metadata": {},
     "output_type": "execute_result"
    }
   ],
   "source": [
    "# 2) Seu código aqui\n",
    "dataframe_mg = consulta_api('MG','Estado')\n",
    "dataframe_mg[dataframe_mg['status'] == 'Arquivado por decurso de prazo']['status'].value_counts()\n"
   ]
  },
  {
   "cell_type": "code",
   "execution_count": 22,
   "metadata": {},
   "outputs": [
    {
     "data": {
      "text/plain": [
       "Deferido    425\n",
       "Name: status, dtype: int64"
      ]
     },
     "execution_count": 22,
     "metadata": {},
     "output_type": "execute_result"
    }
   ],
   "source": [
    "# 3) Seu código aqui\n",
    "dataframe_ba = consulta_api('BA','Município')\n",
    "dataframe_ba[dataframe_ba['status'] == 'Deferido']['status'].value_counts()"
   ]
  },
  {
   "cell_type": "code",
   "execution_count": null,
   "metadata": {},
   "outputs": [],
   "source": [
    "# 4) Seu código aqui\n",
    "estado_ba = consulta_api('BA','Estado')\n",
    "estado_ba.to_csv('estado_ba.csv')"
   ]
  }
 ],
 "metadata": {
  "kernelspec": {
   "display_name": "Python 3",
   "language": "python",
   "name": "python3"
  },
  "language_info": {
   "codemirror_mode": {
    "name": "ipython",
    "version": 3
   },
   "file_extension": ".py",
   "mimetype": "text/x-python",
   "name": "python",
   "nbconvert_exporter": "python",
   "pygments_lexer": "ipython3",
   "version": "3.10.9"
  }
 },
 "nbformat": 4,
 "nbformat_minor": 4
}
