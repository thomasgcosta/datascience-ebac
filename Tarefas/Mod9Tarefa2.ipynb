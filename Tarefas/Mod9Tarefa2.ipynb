{
 "cells": [
  {
   "attachments": {},
   "cell_type": "markdown",
   "metadata": {},
   "source": [
    "# Livro para consulta:\n",
    "- https://jakevdp.github.io/PythonDataScienceHandbook/03.08-aggregation-and-grouping.html\n",
    "- https://jakevdp.github.io/PythonDataScienceHandbook/03.09-pivot-tables.html\n",
    "    "
   ]
  },
  {
   "attachments": {},
   "cell_type": "markdown",
   "metadata": {},
   "source": [
    "# 1. Importando bibliotecas <a name=\"import\"></a>\n",
    "\n",
    "<div style=\"text-align: right\"\n",
    "     \n",
    "[Voltar ao índice](#Contents)"
   ]
  },
  {
   "cell_type": "code",
   "execution_count": 3,
   "metadata": {
    "ExecuteTime": {
     "end_time": "2021-06-06T21:12:37.298706Z",
     "start_time": "2021-06-06T21:12:36.656481Z"
    }
   },
   "outputs": [],
   "source": [
    "import numpy as np\n",
    "import pandas as pd\n",
    "import seaborn as sns\n",
    "import matplotlib.pyplot as plt\n",
    "\n",
    "%matplotlib inline"
   ]
  },
  {
   "attachments": {},
   "cell_type": "markdown",
   "metadata": {},
   "source": [
    "# 2. Carregando o dataframe SINASC <a name=\"read\"></a>\n",
    "<div style=\"text-align: right\"\n",
    "     \n",
    "[Voltar ao índice](#Contents)"
   ]
  },
  {
   "cell_type": "code",
   "execution_count": 76,
   "metadata": {
    "ExecuteTime": {
     "end_time": "2021-06-06T21:12:37.762376Z",
     "start_time": "2021-06-06T21:12:37.728383Z"
    },
    "scrolled": true
   },
   "outputs": [
    {
     "data": {
      "text/plain": [
       "Index(['ORIGEM', 'CODESTAB', 'CODMUNNASC', 'LOCNASC', 'IDADEMAE', 'ESTCIVMAE',\n",
       "       'ESCMAE', 'CODOCUPMAE', 'QTDFILVIVO', 'QTDFILMORT', 'CODMUNRES',\n",
       "       'GESTACAO', 'GRAVIDEZ', 'PARTO', 'CONSULTAS', 'DTNASC', 'HORANASC',\n",
       "       'SEXO', 'APGAR1', 'APGAR5', 'RACACOR', 'PESO', 'IDANOMAL', 'DTCADASTRO',\n",
       "       'CODANOMAL', 'NUMEROLOTE', 'VERSAOSIST', 'DTRECEBIM', 'DIFDATA',\n",
       "       'DTRECORIGA', 'NATURALMAE', 'CODMUNNATU', 'CODUFNATU', 'ESCMAE2010',\n",
       "       'SERIESCMAE', 'DTNASCMAE', 'RACACORMAE', 'QTDGESTANT', 'QTDPARTNOR',\n",
       "       'QTDPARTCES', 'IDADEPAI', 'DTULTMENST', 'SEMAGESTAC', 'TPMETESTIM',\n",
       "       'CONSPRENAT', 'MESPRENAT', 'TPAPRESENT', 'STTRABPART', 'STCESPARTO',\n",
       "       'TPNASCASSI', 'TPFUNCRESP', 'TPDOCRESP', 'DTDECLARAC', 'ESCMAEAGR1',\n",
       "       'STDNEPIDEM', 'STDNNOVA', 'CODPAISRES', 'TPROBSON', 'PARIDADE',\n",
       "       'KOTELCHUCK', 'CONTADOR', 'munResStatus', 'munResTipo', 'munResNome',\n",
       "       'munResUf', 'munResLat', 'munResLon', 'munResAlt', 'munResArea'],\n",
       "      dtype='object')"
      ]
     },
     "execution_count": 76,
     "metadata": {},
     "output_type": "execute_result"
    }
   ],
   "source": [
    "sinasc_raw = pd.read_csv('SINASC_RO_2019.csv')\n",
    "sinasc_raw.columns"
   ]
  },
  {
   "attachments": {},
   "cell_type": "markdown",
   "metadata": {},
   "source": [
    "# Tarefa 2"
   ]
  },
  {
   "attachments": {},
   "cell_type": "markdown",
   "metadata": {},
   "source": [
    "### 1. Crie 2 faixas de Latitude do município (munResLat) sendo uma acima e outra abaixo de -10.5 e aplique o groupby usando essas faixas como chave e realize operações de soma, media, minimo, maximo, mediana, desvio padrao, variancia pra pelo menos 2 variáveis numéricas ainda não utilizadas"
   ]
  },
  {
   "cell_type": "code",
   "execution_count": 31,
   "metadata": {},
   "outputs": [
    {
     "data": {
      "text/html": [
       "<div>\n",
       "<style scoped>\n",
       "    .dataframe tbody tr th:only-of-type {\n",
       "        vertical-align: middle;\n",
       "    }\n",
       "\n",
       "    .dataframe tbody tr th {\n",
       "        vertical-align: top;\n",
       "    }\n",
       "\n",
       "    .dataframe thead tr th {\n",
       "        text-align: left;\n",
       "    }\n",
       "\n",
       "    .dataframe thead tr:last-of-type th {\n",
       "        text-align: right;\n",
       "    }\n",
       "</style>\n",
       "<table border=\"1\" class=\"dataframe\">\n",
       "  <thead>\n",
       "    <tr>\n",
       "      <th></th>\n",
       "      <th colspan=\"7\" halign=\"left\">QTDPARTNOR</th>\n",
       "      <th colspan=\"7\" halign=\"left\">QTDPARTCES</th>\n",
       "    </tr>\n",
       "    <tr>\n",
       "      <th></th>\n",
       "      <th>sum</th>\n",
       "      <th>mean</th>\n",
       "      <th>min</th>\n",
       "      <th>max</th>\n",
       "      <th>median</th>\n",
       "      <th>std</th>\n",
       "      <th>var</th>\n",
       "      <th>sum</th>\n",
       "      <th>mean</th>\n",
       "      <th>min</th>\n",
       "      <th>max</th>\n",
       "      <th>median</th>\n",
       "      <th>std</th>\n",
       "      <th>var</th>\n",
       "    </tr>\n",
       "    <tr>\n",
       "      <th>munResLat</th>\n",
       "      <th></th>\n",
       "      <th></th>\n",
       "      <th></th>\n",
       "      <th></th>\n",
       "      <th></th>\n",
       "      <th></th>\n",
       "      <th></th>\n",
       "      <th></th>\n",
       "      <th></th>\n",
       "      <th></th>\n",
       "      <th></th>\n",
       "      <th></th>\n",
       "      <th></th>\n",
       "      <th></th>\n",
       "    </tr>\n",
       "  </thead>\n",
       "  <tbody>\n",
       "    <tr>\n",
       "      <th>Abaixo de -10.5</th>\n",
       "      <td>5782.0</td>\n",
       "      <td>0.453668</td>\n",
       "      <td>0.0</td>\n",
       "      <td>41.0</td>\n",
       "      <td>0.0</td>\n",
       "      <td>1.125619</td>\n",
       "      <td>1.267019</td>\n",
       "      <td>7052.0</td>\n",
       "      <td>0.552665</td>\n",
       "      <td>0.0</td>\n",
       "      <td>12.0</td>\n",
       "      <td>0.0</td>\n",
       "      <td>0.753007</td>\n",
       "      <td>0.567020</td>\n",
       "    </tr>\n",
       "    <tr>\n",
       "      <th>Acima de -10.5</th>\n",
       "      <td>8771.0</td>\n",
       "      <td>0.711759</td>\n",
       "      <td>0.0</td>\n",
       "      <td>40.0</td>\n",
       "      <td>0.0</td>\n",
       "      <td>1.279042</td>\n",
       "      <td>1.635949</td>\n",
       "      <td>6041.0</td>\n",
       "      <td>0.487335</td>\n",
       "      <td>0.0</td>\n",
       "      <td>12.0</td>\n",
       "      <td>0.0</td>\n",
       "      <td>0.737899</td>\n",
       "      <td>0.544495</td>\n",
       "    </tr>\n",
       "  </tbody>\n",
       "</table>\n",
       "</div>"
      ],
      "text/plain": [
       "                QTDPARTNOR                                                  \\\n",
       "                       sum      mean  min   max median       std       var   \n",
       "munResLat                                                                    \n",
       "Abaixo de -10.5     5782.0  0.453668  0.0  41.0    0.0  1.125619  1.267019   \n",
       "Acima de -10.5      8771.0  0.711759  0.0  40.0    0.0  1.279042  1.635949   \n",
       "\n",
       "                QTDPARTCES                                                  \n",
       "                       sum      mean  min   max median       std       var  \n",
       "munResLat                                                                   \n",
       "Abaixo de -10.5     7052.0  0.552665  0.0  12.0    0.0  0.753007  0.567020  \n",
       "Acima de -10.5      6041.0  0.487335  0.0  12.0    0.0  0.737899  0.544495  "
      ]
     },
     "execution_count": 31,
     "metadata": {},
     "output_type": "execute_result"
    }
   ],
   "source": [
    "bins = [sinasc_raw['munResLat'].min(),-10.5,sinasc_raw['munResLat'].max()]\n",
    "latitude = pd.cut(sinasc_raw['munResLat'], bins=bins, labels=['Abaixo de -10.5', 'Acima de -10.5'])\n",
    "sinasc_raw.groupby(latitude)[['QTDPARTNOR','QTDPARTCES']].agg(['sum','mean','min','max','median','std','var'])"
   ]
  },
  {
   "attachments": {},
   "cell_type": "markdown",
   "metadata": {},
   "source": [
    "### 2. Crie 2 faixas da área dos municípios (munResArea) sendo uma acima e outra abaixo de 3000 e aplique o groupby usando essas faixas como chave e realize operações de soma, media, minimo, maximo, mediana, desvio padrao, variancia pra pelo menos 2 variáveis numéricas ainda não utilizadas\n"
   ]
  },
  {
   "cell_type": "code",
   "execution_count": 27,
   "metadata": {},
   "outputs": [
    {
     "data": {
      "text/html": [
       "<div>\n",
       "<style scoped>\n",
       "    .dataframe tbody tr th:only-of-type {\n",
       "        vertical-align: middle;\n",
       "    }\n",
       "\n",
       "    .dataframe tbody tr th {\n",
       "        vertical-align: top;\n",
       "    }\n",
       "\n",
       "    .dataframe thead tr th {\n",
       "        text-align: left;\n",
       "    }\n",
       "\n",
       "    .dataframe thead tr:last-of-type th {\n",
       "        text-align: right;\n",
       "    }\n",
       "</style>\n",
       "<table border=\"1\" class=\"dataframe\">\n",
       "  <thead>\n",
       "    <tr>\n",
       "      <th></th>\n",
       "      <th colspan=\"7\" halign=\"left\">QTDPARTNOR</th>\n",
       "      <th colspan=\"7\" halign=\"left\">QTDPARTCES</th>\n",
       "    </tr>\n",
       "    <tr>\n",
       "      <th></th>\n",
       "      <th>sum</th>\n",
       "      <th>mean</th>\n",
       "      <th>min</th>\n",
       "      <th>max</th>\n",
       "      <th>median</th>\n",
       "      <th>std</th>\n",
       "      <th>var</th>\n",
       "      <th>sum</th>\n",
       "      <th>mean</th>\n",
       "      <th>min</th>\n",
       "      <th>max</th>\n",
       "      <th>median</th>\n",
       "      <th>std</th>\n",
       "      <th>var</th>\n",
       "    </tr>\n",
       "    <tr>\n",
       "      <th>munResArea</th>\n",
       "      <th></th>\n",
       "      <th></th>\n",
       "      <th></th>\n",
       "      <th></th>\n",
       "      <th></th>\n",
       "      <th></th>\n",
       "      <th></th>\n",
       "      <th></th>\n",
       "      <th></th>\n",
       "      <th></th>\n",
       "      <th></th>\n",
       "      <th></th>\n",
       "      <th></th>\n",
       "      <th></th>\n",
       "    </tr>\n",
       "  </thead>\n",
       "  <tbody>\n",
       "    <tr>\n",
       "      <th>Abaixo de 3000</th>\n",
       "      <td>1898.0</td>\n",
       "      <td>0.373255</td>\n",
       "      <td>0.0</td>\n",
       "      <td>10.0</td>\n",
       "      <td>0.0</td>\n",
       "      <td>0.856498</td>\n",
       "      <td>0.733588</td>\n",
       "      <td>2910.0</td>\n",
       "      <td>0.571934</td>\n",
       "      <td>0.0</td>\n",
       "      <td>5.0</td>\n",
       "      <td>0.0</td>\n",
       "      <td>0.748719</td>\n",
       "      <td>0.560580</td>\n",
       "    </tr>\n",
       "    <tr>\n",
       "      <th>Acima de 3000</th>\n",
       "      <td>12659.0</td>\n",
       "      <td>0.632982</td>\n",
       "      <td>0.0</td>\n",
       "      <td>41.0</td>\n",
       "      <td>0.0</td>\n",
       "      <td>1.278932</td>\n",
       "      <td>1.635668</td>\n",
       "      <td>10184.0</td>\n",
       "      <td>0.507070</td>\n",
       "      <td>0.0</td>\n",
       "      <td>12.0</td>\n",
       "      <td>0.0</td>\n",
       "      <td>0.744981</td>\n",
       "      <td>0.554997</td>\n",
       "    </tr>\n",
       "  </tbody>\n",
       "</table>\n",
       "</div>"
      ],
      "text/plain": [
       "               QTDPARTNOR                                                  \\\n",
       "                      sum      mean  min   max median       std       var   \n",
       "munResArea                                                                  \n",
       "Abaixo de 3000     1898.0  0.373255  0.0  10.0    0.0  0.856498  0.733588   \n",
       "Acima de 3000     12659.0  0.632982  0.0  41.0    0.0  1.278932  1.635668   \n",
       "\n",
       "               QTDPARTCES                                                  \n",
       "                      sum      mean  min   max median       std       var  \n",
       "munResArea                                                                 \n",
       "Abaixo de 3000     2910.0  0.571934  0.0   5.0    0.0  0.748719  0.560580  \n",
       "Acima de 3000     10184.0  0.507070  0.0  12.0    0.0  0.744981  0.554997  "
      ]
     },
     "execution_count": 27,
     "metadata": {},
     "output_type": "execute_result"
    }
   ],
   "source": [
    "bins = [sinasc_raw['munResArea'].min(),3000,sinasc_raw['munResArea'].max()]\n",
    "area_residencial = pd.cut(sinasc_raw['munResArea'], bins=bins, labels=['Abaixo de 3000', 'Acima de 3000'])\n",
    "sinasc_raw.groupby(area_residencial)[['QTDPARTNOR','QTDPARTCES']].agg(['sum','mean','min','max','median','std','var'])"
   ]
  },
  {
   "attachments": {},
   "cell_type": "markdown",
   "metadata": {},
   "source": [
    "### 3. Determine faixas na variável munResAlt e aplique o groupby usando essas faixas como chave e realize operações de soma, media, minimo, maximo, mediana, desvio padrao, variancia pra pelo menos 2 variáveis numéricas ainda não utilizadas"
   ]
  },
  {
   "cell_type": "code",
   "execution_count": 41,
   "metadata": {},
   "outputs": [
    {
     "data": {
      "text/html": [
       "<div>\n",
       "<style scoped>\n",
       "    .dataframe tbody tr th:only-of-type {\n",
       "        vertical-align: middle;\n",
       "    }\n",
       "\n",
       "    .dataframe tbody tr th {\n",
       "        vertical-align: top;\n",
       "    }\n",
       "\n",
       "    .dataframe thead tr th {\n",
       "        text-align: left;\n",
       "    }\n",
       "\n",
       "    .dataframe thead tr:last-of-type th {\n",
       "        text-align: right;\n",
       "    }\n",
       "</style>\n",
       "<table border=\"1\" class=\"dataframe\">\n",
       "  <thead>\n",
       "    <tr>\n",
       "      <th></th>\n",
       "      <th colspan=\"7\" halign=\"left\">QTDPARTNOR</th>\n",
       "      <th colspan=\"7\" halign=\"left\">QTDPARTCES</th>\n",
       "    </tr>\n",
       "    <tr>\n",
       "      <th></th>\n",
       "      <th>sum</th>\n",
       "      <th>mean</th>\n",
       "      <th>min</th>\n",
       "      <th>max</th>\n",
       "      <th>median</th>\n",
       "      <th>std</th>\n",
       "      <th>var</th>\n",
       "      <th>sum</th>\n",
       "      <th>mean</th>\n",
       "      <th>min</th>\n",
       "      <th>max</th>\n",
       "      <th>median</th>\n",
       "      <th>std</th>\n",
       "      <th>var</th>\n",
       "    </tr>\n",
       "    <tr>\n",
       "      <th>munResAlt</th>\n",
       "      <th></th>\n",
       "      <th></th>\n",
       "      <th></th>\n",
       "      <th></th>\n",
       "      <th></th>\n",
       "      <th></th>\n",
       "      <th></th>\n",
       "      <th></th>\n",
       "      <th></th>\n",
       "      <th></th>\n",
       "      <th></th>\n",
       "      <th></th>\n",
       "      <th></th>\n",
       "      <th></th>\n",
       "    </tr>\n",
       "  </thead>\n",
       "  <tbody>\n",
       "    <tr>\n",
       "      <th>Abaixo de 153.0</th>\n",
       "      <td>8999.0</td>\n",
       "      <td>0.773974</td>\n",
       "      <td>0.0</td>\n",
       "      <td>40.0</td>\n",
       "      <td>0.0</td>\n",
       "      <td>1.357675</td>\n",
       "      <td>1.843283</td>\n",
       "      <td>5558.0</td>\n",
       "      <td>0.475490</td>\n",
       "      <td>0.0</td>\n",
       "      <td>12.0</td>\n",
       "      <td>0.0</td>\n",
       "      <td>0.736807</td>\n",
       "      <td>0.542884</td>\n",
       "    </tr>\n",
       "    <tr>\n",
       "      <th>Acima de 153.0</th>\n",
       "      <td>5264.0</td>\n",
       "      <td>0.398064</td>\n",
       "      <td>0.0</td>\n",
       "      <td>41.0</td>\n",
       "      <td>0.0</td>\n",
       "      <td>1.018270</td>\n",
       "      <td>1.036874</td>\n",
       "      <td>7439.0</td>\n",
       "      <td>0.561519</td>\n",
       "      <td>0.0</td>\n",
       "      <td>12.0</td>\n",
       "      <td>0.0</td>\n",
       "      <td>0.752433</td>\n",
       "      <td>0.566156</td>\n",
       "    </tr>\n",
       "  </tbody>\n",
       "</table>\n",
       "</div>"
      ],
      "text/plain": [
       "                QTDPARTNOR                                                  \\\n",
       "                       sum      mean  min   max median       std       var   \n",
       "munResAlt                                                                    \n",
       "Abaixo de 153.0     8999.0  0.773974  0.0  40.0    0.0  1.357675  1.843283   \n",
       "Acima de 153.0      5264.0  0.398064  0.0  41.0    0.0  1.018270  1.036874   \n",
       "\n",
       "                QTDPARTCES                                                  \n",
       "                       sum      mean  min   max median       std       var  \n",
       "munResAlt                                                                   \n",
       "Abaixo de 153.0     5558.0  0.475490  0.0  12.0    0.0  0.736807  0.542884  \n",
       "Acima de 153.0      7439.0  0.561519  0.0  12.0    0.0  0.752433  0.566156  "
      ]
     },
     "execution_count": 41,
     "metadata": {},
     "output_type": "execute_result"
    }
   ],
   "source": [
    "mediana = sinasc_raw[\"munResAlt\"].median()\n",
    "bins = [sinasc_raw['munResAlt'].min(),mediana,sinasc_raw['munResAlt'].max()]\n",
    "mun_res_alt = pd.cut(sinasc_raw['munResAlt'], bins=bins, labels=[f'Abaixo de {mediana}', f'Acima de {mediana}'])\n",
    "sinasc_raw.groupby(mun_res_alt)[['QTDPARTNOR','QTDPARTCES']].agg(['sum','mean','min','max','median','std','var'])"
   ]
  },
  {
   "attachments": {},
   "cell_type": "markdown",
   "metadata": {},
   "source": [
    "### 4. Plote no mesmo grafico ao longo do tempo a idade media das mulheres de cada regiao imediatas de rondonia\n",
    "https://pt.wikipedia.org/wiki/Lista_de_regi%C3%B5es_geogr%C3%A1ficas_intermedi%C3%A1rias_e_imediatas_de_Rond%C3%B4nia"
   ]
  },
  {
   "cell_type": "code",
   "execution_count": 75,
   "metadata": {},
   "outputs": [
    {
     "data": {
      "text/plain": [
       "<Axes: xlabel='mes'>"
      ]
     },
     "execution_count": 75,
     "metadata": {},
     "output_type": "execute_result"
    },
    {
     "data": {
      "image/png": "[encoded data removed]",
      "text/plain": [
       "<Figure size 1000x600 with 1 Axes>"
      ]
     },
     "metadata": {},
     "output_type": "display_data"
    }
   ],
   "source": [
    "imediatas = {\n",
    "\"Candeias do Jamari\":\"Porto Velho\",\n",
    "\"Guajará-Mirim\":\"Porto Velho\",\n",
    "\"Itapuã do Oeste\":\"Porto Velho\",\n",
    "\"Nova Mamoré\":\"Porto Velho\",\n",
    "\"Porto Velho\":\"Porto Velho\",\n",
    "\"Alto Paraíso\":\"Ariquemes\",\n",
    "\"Ariquemes\":\"Ariquemes\",\n",
    "\"Buritis\":\"Ariquemes\",\n",
    "\"Cacaulândia\":\"Ariquemes\",\n",
    "\"Campo Novo de Rondônia\":\"Ariquemes\",\n",
    "\"Cujubim\":\"Ariquemes\",\n",
    "\"Monte Negro\":\"Ariquemes\",\n",
    "\"Rio Crespo\":\"Ariquemes\",\n",
    "\"Governador Jorge Teixeira\":\"Jaru\",\n",
    "\"Jaru\":\"Jaru\",\n",
    "\"Machadinho d'Oeste\":\"Jaru\",\n",
    "\"Theobroma\":\"Jaru\",\n",
    "\"Vale do Anari\":\"Jaru\",\n",
    "\"Alvorada d'Oeste\":\"Ji-Paraná\",\n",
    "\"Costa Marques\":\"Ji-Paraná\",\n",
    "\"Ji-Paraná\":\"Ji-Paraná\",\n",
    "\"Mirante da Serra\":\"Ji-Paraná\",\n",
    "\"Nova União\":\"Ji-Paraná\",\n",
    "\"Ouro Preto do Oeste\":\"Ji-Paraná\",\n",
    "\"Presidente Médici\":\"Ji-Paraná\",\n",
    "\"São Francisco do Guaporé\":\"Ji-Paraná\",\n",
    "\"São Miguel do Guaporé\":\"Ji-Paraná\",\n",
    "\"Seringueiras\":\"Ji-Paraná\",\n",
    "\"Teixeirópolis\":\"Ji-Paraná\",\n",
    "\"Urupá\":\"Ji-Paraná\",\n",
    "\"Vale do Paraíso\":\"Ji-Paraná\",\n",
    "\"Alta Floresta d'Oeste\":\"Cacoal\",\n",
    "\"Alto Alegre dos Parecis\":\"Cacoal\",\n",
    "\"Cacoal\":\"Cacoal\",\n",
    "\"Castanheiras\":\"Cacoal\",\n",
    "\"Espigão d'Oeste\":\"Cacoal\",\n",
    "\"Ministro Andreazza\":\"Cacoal\",\n",
    "\"Nova Brasilândia d'Oeste\":\"Cacoal\",\n",
    "\"Novo Horizonte do Oeste\":\"Cacoal\",\n",
    "\"Parecis\":\"Cacoal\",\n",
    "\"Pimenta Bueno\":\"Cacoal\",\n",
    "\"Primavera de Rondônia\":\"Cacoal\",\n",
    "\"Rolim de Moura\":\"Cacoal\",\n",
    "\"Santa Luzia d'Oeste\":\"Cacoal\",\n",
    "\"São Felipe d'Oeste\":\"Cacoal\",\n",
    "\"Cabixi\":\"Vilhena\",\n",
    "\"Cerejeiras\":\"Vilhena\",\n",
    "\"Chupinguaia\":\"Vilhena\",\n",
    "\"Colorado do Oeste\":\"Vilhena\",\n",
    "\"Corumbiara\":\"Vilhena\",\n",
    "\"Pimenteiras do Oeste\":\"Vilhena\",\n",
    "\"Vilhena\":\"Vilhena\"\n",
    "}\n",
    "\n",
    "sinasc_2 = sinasc_raw.set_index('munResNome')\n",
    "sinasc_2['mes'] = pd.to_datetime(sinasc_2['DTNASC']).dt.month\n",
    "media_idade_ano = sinasc_2.groupby(['mes',imediatas])['IDADEMAE'].mean().unstack()\n",
    "media_idade_ano.plot(kind='line', marker='o', figsize=(10, 6))\n"
   ]
  },
  {
   "attachments": {},
   "cell_type": "markdown",
   "metadata": {},
   "source": [
    "### 5. Utilize a tabela do link abaixo e crie faixas utilizando o mapping e gere agrupamentos utilizando essas faixas como chave\n"
   ]
  },
  {
   "attachments": {},
   "cell_type": "markdown",
   "metadata": {},
   "source": [
    "### 5.1 IDH\n",
    "A - https://pt.wikipedia.org/wiki/Lista_de_munic%C3%ADpios_de_Rond%C3%B4nia_por_IDH-M\n"
   ]
  },
  {
   "cell_type": "code",
   "execution_count": 103,
   "metadata": {},
   "outputs": [
    {
     "data": {
      "text/plain": [
       "idh              IDADEMAE\n",
       "IDH muito baixo  (0, 18]        0\n",
       "                 (18, 23]       0\n",
       "                 (23, 28]       0\n",
       "                 (28, 33]       0\n",
       "                 (33, 38]       0\n",
       "                 (38, 43]       0\n",
       "                 (43, 48]       0\n",
       "                 (48, 53]       0\n",
       "                 (53, 58]       0\n",
       "                 (58, 80]       0\n",
       "IDH baixo        (0, 18]      249\n",
       "                 (18, 23]     532\n",
       "                 (23, 28]     515\n",
       "                 (28, 33]     315\n",
       "                 (33, 38]     171\n",
       "                 (38, 43]      41\n",
       "                 (43, 48]       3\n",
       "                 (48, 53]       0\n",
       "                 (53, 58]       0\n",
       "                 (58, 80]       0\n",
       "IDH médio        (0, 18]     1128\n",
       "                 (18, 23]    2541\n",
       "                 (23, 28]    2488\n",
       "                 (28, 33]    1839\n",
       "                 (33, 38]     990\n",
       "                 (38, 43]     266\n",
       "                 (43, 48]      17\n",
       "                 (48, 53]       4\n",
       "                 (53, 58]       0\n",
       "                 (58, 80]       0\n",
       "IDH alto         (0, 18]     1829\n",
       "                 (18, 23]    4109\n",
       "                 (23, 28]    4288\n",
       "                 (28, 33]    3281\n",
       "                 (33, 38]    1877\n",
       "                 (38, 43]     511\n",
       "                 (43, 48]      33\n",
       "                 (48, 53]       0\n",
       "                 (53, 58]       0\n",
       "                 (58, 80]       0\n",
       "IDH muito alto   (0, 18]        0\n",
       "                 (18, 23]       0\n",
       "                 (23, 28]       0\n",
       "                 (28, 33]       0\n",
       "                 (33, 38]       0\n",
       "                 (38, 43]       0\n",
       "                 (43, 48]       0\n",
       "                 (48, 53]       0\n",
       "                 (53, 58]       0\n",
       "                 (58, 80]       0\n",
       "Name: IDADEMAE, dtype: int64"
      ]
     },
     "execution_count": 103,
     "metadata": {},
     "output_type": "execute_result"
    }
   ],
   "source": [
    "idh = pd.read_csv('dados_extras_ro.csv',encoding='latin-1',sep=';')\n",
    "idh.rename(columns={'municipio':'munResNome'}, inplace=True)\n",
    "df = sinasc_raw.merge(idh, how='left', on='munResNome')\n",
    "bins = [0.0,0.500,0.600,0.700,0.800,1000]\n",
    "cat_idh = pd.cut(df['idh'], bins=bins, labels=['IDH muito baixo', 'IDH baixo', 'IDH médio', 'IDH alto', 'IDH muito alto'])\n",
    "idade_mae = pd.cut(df['IDADEMAE'], [0, 18, 23, 28, 33, 38, 43, 48, 53, 58,80])\n",
    "df.groupby([cat_idh,idade_mae])['IDADEMAE'].count()"
   ]
  },
  {
   "attachments": {},
   "cell_type": "markdown",
   "metadata": {},
   "source": [
    "### 5.2 IFDM \n",
    "B - https://pt.wikipedia.org/wiki/Lista_de_munic%C3%ADpios_de_Rond%C3%B4nia_por_IFDM\n"
   ]
  },
  {
   "cell_type": "code",
   "execution_count": 105,
   "metadata": {},
   "outputs": [
    {
     "data": {
      "text/plain": [
       "ifdm      IDADEMAE\n",
       "Baixo     (0, 18]        0\n",
       "          (18, 23]       0\n",
       "          (23, 28]       0\n",
       "          (28, 33]       0\n",
       "          (33, 38]       0\n",
       "          (38, 43]       0\n",
       "          (43, 48]       0\n",
       "          (48, 53]       0\n",
       "          (53, 58]       0\n",
       "          (58, 80]       0\n",
       "Regular   (0, 18]      695\n",
       "          (18, 23]    1464\n",
       "          (23, 28]    1342\n",
       "          (28, 33]     922\n",
       "          (33, 38]     510\n",
       "          (38, 43]     137\n",
       "          (43, 48]       9\n",
       "          (48, 53]       2\n",
       "          (53, 58]       0\n",
       "          (58, 80]       0\n",
       "Moderado  (0, 18]     2511\n",
       "          (18, 23]    5718\n",
       "          (23, 28]    5949\n",
       "          (28, 33]    4513\n",
       "          (33, 38]    2528\n",
       "          (38, 43]     681\n",
       "          (43, 48]      44\n",
       "          (48, 53]       2\n",
       "          (53, 58]       0\n",
       "          (58, 80]       0\n",
       "Alto      (0, 18]        0\n",
       "          (18, 23]       0\n",
       "          (23, 28]       0\n",
       "          (28, 33]       0\n",
       "          (33, 38]       0\n",
       "          (38, 43]       0\n",
       "          (43, 48]       0\n",
       "          (48, 53]       0\n",
       "          (53, 58]       0\n",
       "          (58, 80]       0\n",
       "Name: IDADEMAE, dtype: int64"
      ]
     },
     "execution_count": 105,
     "metadata": {},
     "output_type": "execute_result"
    }
   ],
   "source": [
    "bins = [0.0,0.4,0.6,0.8,1.0]\n",
    "cat_ifdm = pd.cut(df['ifdm'], bins=bins, labels=['Baixo', 'Regular', 'Moderado', 'Alto'])\n",
    "df.groupby([cat_ifdm,idade_mae])['IDADEMAE'].count()"
   ]
  },
  {
   "attachments": {},
   "cell_type": "markdown",
   "metadata": {},
   "source": [
    "### 5.3 PIB\n",
    "C - https://pt.wikipedia.org/wiki/Lista_de_munic%C3%ADpios_de_Rond%C3%B4nia_por_PIB\n"
   ]
  },
  {
   "cell_type": "code",
   "execution_count": 120,
   "metadata": {},
   "outputs": [
    {
     "data": {
      "text/html": [
       "<div>\n",
       "<style scoped>\n",
       "    .dataframe tbody tr th:only-of-type {\n",
       "        vertical-align: middle;\n",
       "    }\n",
       "\n",
       "    .dataframe tbody tr th {\n",
       "        vertical-align: top;\n",
       "    }\n",
       "\n",
       "    .dataframe thead th {\n",
       "        text-align: right;\n",
       "    }\n",
       "</style>\n",
       "<table border=\"1\" class=\"dataframe\">\n",
       "  <thead>\n",
       "    <tr style=\"text-align: right;\">\n",
       "      <th></th>\n",
       "      <th>QTDPARTNOR</th>\n",
       "      <th>QTDPARTCES</th>\n",
       "    </tr>\n",
       "    <tr>\n",
       "      <th>pib</th>\n",
       "      <th></th>\n",
       "      <th></th>\n",
       "    </tr>\n",
       "  </thead>\n",
       "  <tbody>\n",
       "    <tr>\n",
       "      <th>Até 100 Milhões</th>\n",
       "      <td>427</td>\n",
       "      <td>426</td>\n",
       "    </tr>\n",
       "    <tr>\n",
       "      <th>Acima de 100 milhões</th>\n",
       "      <td>1914</td>\n",
       "      <td>1913</td>\n",
       "    </tr>\n",
       "    <tr>\n",
       "      <th>Acima de 200 milhões</th>\n",
       "      <td>644</td>\n",
       "      <td>669</td>\n",
       "    </tr>\n",
       "    <tr>\n",
       "      <th>Acima de 300 milhões</th>\n",
       "      <td>1859</td>\n",
       "      <td>1857</td>\n",
       "    </tr>\n",
       "    <tr>\n",
       "      <th>Acima de 500 milhões</th>\n",
       "      <td>3844</td>\n",
       "      <td>3931</td>\n",
       "    </tr>\n",
       "    <tr>\n",
       "      <th>Acima de 1 Bilhão</th>\n",
       "      <td>16460</td>\n",
       "      <td>16440</td>\n",
       "    </tr>\n",
       "  </tbody>\n",
       "</table>\n",
       "</div>"
      ],
      "text/plain": [
       "                      QTDPARTNOR  QTDPARTCES\n",
       "pib                                         \n",
       "Até 100 Milhões              427         426\n",
       "Acima de 100 milhões        1914        1913\n",
       "Acima de 200 milhões         644         669\n",
       "Acima de 300 milhões        1859        1857\n",
       "Acima de 500 milhões        3844        3931\n",
       "Acima de 1 Bilhão          16460       16440"
      ]
     },
     "execution_count": 120,
     "metadata": {},
     "output_type": "execute_result"
    }
   ],
   "source": [
    "bins = [0,100000,200000,300000,500000,1000000,float('inf')]\n",
    "cat_pib = pd.cut(df['pib'], bins=bins, labels=['Até 100 Milhões', 'Acima de 100 milhões', 'Acima de 200 milhões', 'Acima de 300 milhões','Acima de 500 milhões','Acima de 1 Bilhão'])\n",
    "df.groupby(cat_pib)[['QTDPARTNOR','QTDPARTCES']].count()"
   ]
  },
  {
   "attachments": {},
   "cell_type": "markdown",
   "metadata": {},
   "source": [
    "### Analise as respostas encontradas, tire algum insight delas, conte pra gente algo encontrado nos dados."
   ]
  },
  {
   "attachments": {},
   "cell_type": "markdown",
   "metadata": {},
   "source": [
    "Exemplo:\n",
    "- Ah, descobri que a idade mediana das mulheres que deram a luz no ano de 2019 dos municipios com o PIB mais alto é a maior dentre todas."
   ]
  },
  {
   "attachments": {},
   "cell_type": "markdown",
   "metadata": {},
   "source": [
    "### ANÁLISE\n",
    "Após o merge das bases de dados com os valores do IDH-M, IFDM e PIB foi realizada uma análise utilizando as váriáveis 'IDADEMAE', 'QTDPARTNOR', 'QTDPARTCES'. Desta análise podemos destacar que a categorização do índice IDH e IFDM em cruzamento com a váriável idade da mãe obtive a percepção de que a maior quantidade está entre IDH Alto e IFDM Moderado e a faixa de idade está entre 18 e 28 anos. Já referente ao PIB podemos perceber que a quantidade de partos normais e cesária não tem relação direta com o PIB que a diferença entre uma variável e outra entre as faixas do PIB tem uma variação muito baixa.\n"
   ]
  }
 ],
 "metadata": {
  "kernelspec": {
   "display_name": "Python 3",
   "language": "python",
   "name": "python3"
  },
  "language_info": {
   "codemirror_mode": {
    "name": "ipython",
    "version": 3
   },
   "file_extension": ".py",
   "mimetype": "text/x-python",
   "name": "python",
   "nbconvert_exporter": "python",
   "pygments_lexer": "ipython3",
   "version": "3.10.9"
  },
  "varInspector": {
   "cols": {
    "lenName": 16,
    "lenType": 16,
    "lenVar": 40
   },
   "kernels_config": {
    "python": {
     "delete_cmd_postfix": "",
     "delete_cmd_prefix": "del ",
     "library": "var_list.py",
     "varRefreshCmd": "print(var_dic_list())"
    },
    "r": {
     "delete_cmd_postfix": ") ",
     "delete_cmd_prefix": "rm(",
     "library": "var_list.r",
     "varRefreshCmd": "cat(var_dic_list()) "
    }
   },
   "types_to_exclude": [
    "module",
    "function",
    "builtin_function_or_method",
    "instance",
    "_Feature"
   ],
   "window_display": false
  }
 },
 "nbformat": 4,
 "nbformat_minor": 4
}
