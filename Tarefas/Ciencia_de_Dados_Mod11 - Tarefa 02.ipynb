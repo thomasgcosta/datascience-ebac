{
 "cells": [
  {
   "attachments": {},
   "cell_type": "markdown",
   "metadata": {},
   "source": [
    "## Árvores de regressão - exercícios 02\n",
    "\n",
    "Este exercício será uma continuação do anterior, mesma base, mesmas variáveis - vamos tentar buscar a 'melhor árvore'.\n",
    "\n",
    "A descrição das variáveis está abaixo:"
   ]
  },
  {
   "attachments": {},
   "cell_type": "markdown",
   "metadata": {},
   "source": [
    "| Variavel | Descrição|\n",
    "|-|-|\n",
    "|CRIM| taxa de crimes per-cápita da cidade | \n",
    "|ZN| proporção de terrenos residenciais zoneados para lotes com mais de 25.000 pés quadrados. |\n",
    "|INDUS| proporção de acres de negócios não varejistas por cidade |\n",
    "|CHAS |vale 1 se o terreno faz fronteira com o *Charles River*; 0 caso contrário |\n",
    "|NOX| Concentração de óxido nítrico (em partes por 10 milhões) |\n",
    "|RM| número médio de quartos por habitação |\n",
    "|AGE| proporção de unidades ocupadas pelo proprietário construídas antes de 1940 |\n",
    "|DIS| distâncias ponderadas até cinco centros de empregos de Boston |\n",
    "|RAD| índice de acessibilidade a rodovias radiais |\n",
    "|TAX| taxa de imposto sobre a propriedade de valor total por \\\\$10,000 |\n",
    "|PTRATIO| razão pupilo-professor da cidade |\n",
    "|B| $ 1000 (Bk - 0,63) ^ 2 $ onde Bk é a proporção de negros por cidade |\n",
    "|LSTAT| \\%status inferior da população |\n",
    "|MEDV| (variável resposta) Valor mediano das casas ocupadas pelo proprietário em US $ 1.000|"
   ]
  },
  {
   "cell_type": "code",
   "execution_count": 2,
   "metadata": {},
   "outputs": [],
   "source": [
    "import pandas as pd\n",
    "\n",
    "import matplotlib.pyplot as plt\n",
    "import seaborn as sns\n",
    "\n",
    "\n",
    "from sklearn import datasets\n",
    "from sklearn.tree import DecisionTreeRegressor\n",
    "from sklearn import tree\n",
    "from sklearn.model_selection import train_test_split\n",
    "from sklearn.metrics import mean_squared_error\n",
    "%matplotlib inline\n",
    "\n",
    "url = 'https://raw.githubusercontent.com/selva86/datasets/master/BostonHousing.csv'\n",
    "boston = pd.read_csv(url)\n",
    "X = boston.drop(columns=['medv']).copy()\n",
    "y = boston[['medv']]"
   ]
  },
  {
   "cell_type": "code",
   "execution_count": 3,
   "metadata": {},
   "outputs": [
    {
     "data": {
      "text/html": [
       "<div>\n",
       "<style scoped>\n",
       "    .dataframe tbody tr th:only-of-type {\n",
       "        vertical-align: middle;\n",
       "    }\n",
       "\n",
       "    .dataframe tbody tr th {\n",
       "        vertical-align: top;\n",
       "    }\n",
       "\n",
       "    .dataframe thead th {\n",
       "        text-align: right;\n",
       "    }\n",
       "</style>\n",
       "<table border=\"1\" class=\"dataframe\">\n",
       "  <thead>\n",
       "    <tr style=\"text-align: right;\">\n",
       "      <th></th>\n",
       "      <th>crim</th>\n",
       "      <th>zn</th>\n",
       "      <th>indus</th>\n",
       "      <th>chas</th>\n",
       "      <th>nox</th>\n",
       "      <th>rm</th>\n",
       "      <th>age</th>\n",
       "      <th>dis</th>\n",
       "      <th>rad</th>\n",
       "      <th>tax</th>\n",
       "      <th>ptratio</th>\n",
       "      <th>b</th>\n",
       "      <th>lstat</th>\n",
       "    </tr>\n",
       "  </thead>\n",
       "  <tbody>\n",
       "    <tr>\n",
       "      <th>0</th>\n",
       "      <td>0.00632</td>\n",
       "      <td>18.0</td>\n",
       "      <td>2.31</td>\n",
       "      <td>0</td>\n",
       "      <td>0.538</td>\n",
       "      <td>6.575</td>\n",
       "      <td>65.2</td>\n",
       "      <td>4.0900</td>\n",
       "      <td>1</td>\n",
       "      <td>296</td>\n",
       "      <td>15.3</td>\n",
       "      <td>396.90</td>\n",
       "      <td>4.98</td>\n",
       "    </tr>\n",
       "    <tr>\n",
       "      <th>1</th>\n",
       "      <td>0.02731</td>\n",
       "      <td>0.0</td>\n",
       "      <td>7.07</td>\n",
       "      <td>0</td>\n",
       "      <td>0.469</td>\n",
       "      <td>6.421</td>\n",
       "      <td>78.9</td>\n",
       "      <td>4.9671</td>\n",
       "      <td>2</td>\n",
       "      <td>242</td>\n",
       "      <td>17.8</td>\n",
       "      <td>396.90</td>\n",
       "      <td>9.14</td>\n",
       "    </tr>\n",
       "    <tr>\n",
       "      <th>2</th>\n",
       "      <td>0.02729</td>\n",
       "      <td>0.0</td>\n",
       "      <td>7.07</td>\n",
       "      <td>0</td>\n",
       "      <td>0.469</td>\n",
       "      <td>7.185</td>\n",
       "      <td>61.1</td>\n",
       "      <td>4.9671</td>\n",
       "      <td>2</td>\n",
       "      <td>242</td>\n",
       "      <td>17.8</td>\n",
       "      <td>392.83</td>\n",
       "      <td>4.03</td>\n",
       "    </tr>\n",
       "    <tr>\n",
       "      <th>3</th>\n",
       "      <td>0.03237</td>\n",
       "      <td>0.0</td>\n",
       "      <td>2.18</td>\n",
       "      <td>0</td>\n",
       "      <td>0.458</td>\n",
       "      <td>6.998</td>\n",
       "      <td>45.8</td>\n",
       "      <td>6.0622</td>\n",
       "      <td>3</td>\n",
       "      <td>222</td>\n",
       "      <td>18.7</td>\n",
       "      <td>394.63</td>\n",
       "      <td>2.94</td>\n",
       "    </tr>\n",
       "    <tr>\n",
       "      <th>4</th>\n",
       "      <td>0.06905</td>\n",
       "      <td>0.0</td>\n",
       "      <td>2.18</td>\n",
       "      <td>0</td>\n",
       "      <td>0.458</td>\n",
       "      <td>7.147</td>\n",
       "      <td>54.2</td>\n",
       "      <td>6.0622</td>\n",
       "      <td>3</td>\n",
       "      <td>222</td>\n",
       "      <td>18.7</td>\n",
       "      <td>396.90</td>\n",
       "      <td>5.33</td>\n",
       "    </tr>\n",
       "  </tbody>\n",
       "</table>\n",
       "</div>"
      ],
      "text/plain": [
       "      crim    zn  indus  chas    nox     rm   age     dis  rad  tax  ptratio  \\\n",
       "0  0.00632  18.0   2.31     0  0.538  6.575  65.2  4.0900    1  296     15.3   \n",
       "1  0.02731   0.0   7.07     0  0.469  6.421  78.9  4.9671    2  242     17.8   \n",
       "2  0.02729   0.0   7.07     0  0.469  7.185  61.1  4.9671    2  242     17.8   \n",
       "3  0.03237   0.0   2.18     0  0.458  6.998  45.8  6.0622    3  222     18.7   \n",
       "4  0.06905   0.0   2.18     0  0.458  7.147  54.2  6.0622    3  222     18.7   \n",
       "\n",
       "        b  lstat  \n",
       "0  396.90   4.98  \n",
       "1  396.90   9.14  \n",
       "2  392.83   4.03  \n",
       "3  394.63   2.94  \n",
       "4  396.90   5.33  "
      ]
     },
     "execution_count": 3,
     "metadata": {},
     "output_type": "execute_result"
    }
   ],
   "source": [
    "X.head()"
   ]
  },
  {
   "cell_type": "code",
   "execution_count": 4,
   "metadata": {},
   "outputs": [
    {
     "data": {
      "text/html": [
       "<div>\n",
       "<style scoped>\n",
       "    .dataframe tbody tr th:only-of-type {\n",
       "        vertical-align: middle;\n",
       "    }\n",
       "\n",
       "    .dataframe tbody tr th {\n",
       "        vertical-align: top;\n",
       "    }\n",
       "\n",
       "    .dataframe thead th {\n",
       "        text-align: right;\n",
       "    }\n",
       "</style>\n",
       "<table border=\"1\" class=\"dataframe\">\n",
       "  <thead>\n",
       "    <tr style=\"text-align: right;\">\n",
       "      <th></th>\n",
       "      <th>medv</th>\n",
       "    </tr>\n",
       "  </thead>\n",
       "  <tbody>\n",
       "    <tr>\n",
       "      <th>0</th>\n",
       "      <td>24.0</td>\n",
       "    </tr>\n",
       "    <tr>\n",
       "      <th>1</th>\n",
       "      <td>21.6</td>\n",
       "    </tr>\n",
       "    <tr>\n",
       "      <th>2</th>\n",
       "      <td>34.7</td>\n",
       "    </tr>\n",
       "    <tr>\n",
       "      <th>3</th>\n",
       "      <td>33.4</td>\n",
       "    </tr>\n",
       "    <tr>\n",
       "      <th>4</th>\n",
       "      <td>36.2</td>\n",
       "    </tr>\n",
       "  </tbody>\n",
       "</table>\n",
       "</div>"
      ],
      "text/plain": [
       "   medv\n",
       "0  24.0\n",
       "1  21.6\n",
       "2  34.7\n",
       "3  33.4\n",
       "4  36.2"
      ]
     },
     "execution_count": 4,
     "metadata": {},
     "output_type": "execute_result"
    }
   ],
   "source": [
    "y.head()"
   ]
  },
  {
   "attachments": {},
   "cell_type": "markdown",
   "metadata": {},
   "source": [
    "### 1. Execute os passos do exercício anterior, até que você tenha uma árvore de regressão predizendo o valor do imóvel na base de treinamento."
   ]
  },
  {
   "cell_type": "code",
   "execution_count": 8,
   "metadata": {},
   "outputs": [],
   "source": [
    "X_train, X_test, y_train, y_test = train_test_split(X, y, test_size=0.3, random_state=100)\n",
    "arvore = DecisionTreeRegressor(max_depth=2)\n",
    "\n",
    "arvore.fit(X_train, y_train)\n",
    "predict = arvore.predict(X_train)"
   ]
  },
  {
   "attachments": {},
   "cell_type": "markdown",
   "metadata": {},
   "source": [
    "### 2.  Calcule o caminho indicado pelos CCP-alfas dessa árvore."
   ]
  },
  {
   "cell_type": "code",
   "execution_count": 6,
   "metadata": {},
   "outputs": [],
   "source": [
    "path = arvore.cost_complexity_pruning_path(X_train, y_train)\n",
    "ccp_alphas, impurities = path.ccp_alphas, path.impurities\n"
   ]
  },
  {
   "attachments": {},
   "cell_type": "markdown",
   "metadata": {},
   "source": [
    "### 3. Paca cada valor de alpha obtido no item 2, treine uma árvore com o respectivo alfa, e guarde essa árvore em uma lista."
   ]
  },
  {
   "cell_type": "code",
   "execution_count": 7,
   "metadata": {},
   "outputs": [
    {
     "data": {
      "text/plain": [
       "[DecisionTreeRegressor(random_state=0),\n",
       " DecisionTreeRegressor(ccp_alpha=5.649717514119156e-05, random_state=0),\n",
       " DecisionTreeRegressor(ccp_alpha=5.6497175141271845e-05, random_state=0),\n",
       " DecisionTreeRegressor(ccp_alpha=6.355932203785487e-05, random_state=0),\n",
       " DecisionTreeRegressor(ccp_alpha=0.0002259887005647662, random_state=0),\n",
       " DecisionTreeRegressor(ccp_alpha=0.00035310734463276836, random_state=0),\n",
       " DecisionTreeRegressor(ccp_alpha=0.0004613935969835074, random_state=0),\n",
       " DecisionTreeRegressor(ccp_alpha=0.0006779661016952621, random_state=0),\n",
       " DecisionTreeRegressor(ccp_alpha=0.0006920903954802389, random_state=0),\n",
       " DecisionTreeRegressor(ccp_alpha=0.0006920903954802389, random_state=0),\n",
       " DecisionTreeRegressor(ccp_alpha=0.0007627118644031956, random_state=0),\n",
       " DecisionTreeRegressor(ccp_alpha=0.0014124293785310734, random_state=0),\n",
       " DecisionTreeRegressor(ccp_alpha=0.0014124293785311537, random_state=0),\n",
       " DecisionTreeRegressor(ccp_alpha=0.0017090395480226504, random_state=0),\n",
       " DecisionTreeRegressor(ccp_alpha=0.0020762711864414393, random_state=0),\n",
       " DecisionTreeRegressor(ccp_alpha=0.002288135593220185, random_state=0),\n",
       " DecisionTreeRegressor(ccp_alpha=0.002883709981167715, random_state=0),\n",
       " DecisionTreeRegressor(ccp_alpha=0.002942561205272802, random_state=0),\n",
       " DecisionTreeRegressor(ccp_alpha=0.0030508474576281977, random_state=0),\n",
       " DecisionTreeRegressor(ccp_alpha=0.003177966101694755, random_state=0),\n",
       " DecisionTreeRegressor(ccp_alpha=0.003959510357806381, random_state=0),\n",
       " DecisionTreeRegressor(ccp_alpha=0.0045244821092289755, random_state=0),\n",
       " DecisionTreeRegressor(ccp_alpha=0.004766949152542534, random_state=0),\n",
       " DecisionTreeRegressor(ccp_alpha=0.005127118644068433, random_state=0),\n",
       " DecisionTreeRegressor(ccp_alpha=0.006152542372888092, random_state=0),\n",
       " DecisionTreeRegressor(ccp_alpha=0.006920903954802388, random_state=0),\n",
       " DecisionTreeRegressor(ccp_alpha=0.007471751412428043, random_state=0),\n",
       " DecisionTreeRegressor(ccp_alpha=0.007689893283116852, random_state=0),\n",
       " DecisionTreeRegressor(ccp_alpha=0.007914312617698623, random_state=0),\n",
       " DecisionTreeRegressor(ccp_alpha=0.007919020715627216, random_state=0),\n",
       " DecisionTreeRegressor(ccp_alpha=0.007956685499047291, random_state=0),\n",
       " DecisionTreeRegressor(ccp_alpha=0.008609093354843512, random_state=0),\n",
       " DecisionTreeRegressor(ccp_alpha=0.009184322033898703, random_state=0),\n",
       " DecisionTreeRegressor(ccp_alpha=0.009642184557438375, random_state=0),\n",
       " DecisionTreeRegressor(ccp_alpha=0.009796610169490773, random_state=0),\n",
       " DecisionTreeRegressor(ccp_alpha=0.011073446327657166, random_state=0),\n",
       " DecisionTreeRegressor(ccp_alpha=0.011074623352161028, random_state=0),\n",
       " DecisionTreeRegressor(ccp_alpha=0.01271206618241007, random_state=0),\n",
       " DecisionTreeRegressor(ccp_alpha=0.013596986817324033, random_state=0),\n",
       " DecisionTreeRegressor(ccp_alpha=0.014463276836157883, random_state=0),\n",
       " DecisionTreeRegressor(ccp_alpha=0.015381355932203852, random_state=0),\n",
       " DecisionTreeRegressor(ccp_alpha=0.01591305712492268, random_state=0),\n",
       " DecisionTreeRegressor(ccp_alpha=0.019096045197740087, random_state=0),\n",
       " DecisionTreeRegressor(ccp_alpha=0.023531073446319842, random_state=0),\n",
       " DecisionTreeRegressor(ccp_alpha=0.02375706214689353, random_state=0),\n",
       " DecisionTreeRegressor(ccp_alpha=0.023826562640125032, random_state=0),\n",
       " DecisionTreeRegressor(ccp_alpha=0.024406779661017997, random_state=0),\n",
       " DecisionTreeRegressor(ccp_alpha=0.02645009416196277, random_state=0),\n",
       " DecisionTreeRegressor(ccp_alpha=0.02657627118644059, random_state=0),\n",
       " DecisionTreeRegressor(ccp_alpha=0.02715092816787621, random_state=0),\n",
       " DecisionTreeRegressor(ccp_alpha=0.027193973634651637, random_state=0),\n",
       " DecisionTreeRegressor(ccp_alpha=0.029265873015872905, random_state=0),\n",
       " DecisionTreeRegressor(ccp_alpha=0.030779302304732747, random_state=0),\n",
       " DecisionTreeRegressor(ccp_alpha=0.030889830508475866, random_state=0),\n",
       " DecisionTreeRegressor(ccp_alpha=0.03351115634577411, random_state=0),\n",
       " DecisionTreeRegressor(ccp_alpha=0.035502140044513186, random_state=0),\n",
       " DecisionTreeRegressor(ccp_alpha=0.040790960451977554, random_state=0),\n",
       " DecisionTreeRegressor(ccp_alpha=0.04218603448912536, random_state=0),\n",
       " DecisionTreeRegressor(ccp_alpha=0.04286016949153478, random_state=0),\n",
       " DecisionTreeRegressor(ccp_alpha=0.04350831763970023, random_state=0),\n",
       " DecisionTreeRegressor(ccp_alpha=0.04442359429647444, random_state=0),\n",
       " DecisionTreeRegressor(ccp_alpha=0.049811676082861855, random_state=0),\n",
       " DecisionTreeRegressor(ccp_alpha=0.05152683615817185, random_state=0),\n",
       " DecisionTreeRegressor(ccp_alpha=0.051680130174781944, random_state=0),\n",
       " DecisionTreeRegressor(ccp_alpha=0.052925298179538185, random_state=0),\n",
       " DecisionTreeRegressor(ccp_alpha=0.05438794726930063, random_state=0),\n",
       " DecisionTreeRegressor(ccp_alpha=0.058837772397087984, random_state=0),\n",
       " DecisionTreeRegressor(ccp_alpha=0.05933380414312536, random_state=0),\n",
       " DecisionTreeRegressor(ccp_alpha=0.06152542372881412, random_state=0),\n",
       " DecisionTreeRegressor(ccp_alpha=0.06476459510357838, random_state=0),\n",
       " DecisionTreeRegressor(ccp_alpha=0.06851037454964204, random_state=0),\n",
       " DecisionTreeRegressor(ccp_alpha=0.0720762711864392, random_state=0),\n",
       " DecisionTreeRegressor(ccp_alpha=0.07356403013183016, random_state=0),\n",
       " DecisionTreeRegressor(ccp_alpha=0.07458568738229779, random_state=0),\n",
       " DecisionTreeRegressor(ccp_alpha=0.07534016007534669, random_state=0),\n",
       " DecisionTreeRegressor(ccp_alpha=0.08017307864765533, random_state=0),\n",
       " DecisionTreeRegressor(ccp_alpha=0.08424558335574192, random_state=0),\n",
       " DecisionTreeRegressor(ccp_alpha=0.08677966101696144, random_state=0),\n",
       " DecisionTreeRegressor(ccp_alpha=0.09868942247327411, random_state=0),\n",
       " DecisionTreeRegressor(ccp_alpha=0.10144632768367182, random_state=0),\n",
       " DecisionTreeRegressor(ccp_alpha=0.11066455923235843, random_state=0),\n",
       " DecisionTreeRegressor(ccp_alpha=0.11264246582043155, random_state=0),\n",
       " DecisionTreeRegressor(ccp_alpha=0.11341039144574339, random_state=0),\n",
       " DecisionTreeRegressor(ccp_alpha=0.12411308646521614, random_state=0),\n",
       " DecisionTreeRegressor(ccp_alpha=0.12577175141243918, random_state=0),\n",
       " DecisionTreeRegressor(ccp_alpha=0.13276978395989358, random_state=0),\n",
       " DecisionTreeRegressor(ccp_alpha=0.13672316384186034, random_state=0),\n",
       " DecisionTreeRegressor(ccp_alpha=0.17108428559158484, random_state=0),\n",
       " DecisionTreeRegressor(ccp_alpha=0.20445663010966358, random_state=0),\n",
       " DecisionTreeRegressor(ccp_alpha=0.2078354856066812, random_state=0),\n",
       " DecisionTreeRegressor(ccp_alpha=0.298983050847458, random_state=0),\n",
       " DecisionTreeRegressor(ccp_alpha=0.339259997784396, random_state=0),\n",
       " DecisionTreeRegressor(ccp_alpha=0.387039225181657, random_state=0),\n",
       " DecisionTreeRegressor(ccp_alpha=0.3880320150658829, random_state=0),\n",
       " DecisionTreeRegressor(ccp_alpha=0.42720696298996985, random_state=0),\n",
       " DecisionTreeRegressor(ccp_alpha=0.4742201965531975, random_state=0),\n",
       " DecisionTreeRegressor(ccp_alpha=0.5083404543314736, random_state=0),\n",
       " DecisionTreeRegressor(ccp_alpha=0.5087761193834277, random_state=0),\n",
       " DecisionTreeRegressor(ccp_alpha=0.6619677866793814, random_state=0),\n",
       " DecisionTreeRegressor(ccp_alpha=0.8171687478599541, random_state=0),\n",
       " DecisionTreeRegressor(ccp_alpha=1.3834334691516936, random_state=0),\n",
       " DecisionTreeRegressor(ccp_alpha=1.4605595910681244, random_state=0),\n",
       " DecisionTreeRegressor(ccp_alpha=1.5126921026241433, random_state=0),\n",
       " DecisionTreeRegressor(ccp_alpha=2.2301062697789695, random_state=0),\n",
       " DecisionTreeRegressor(ccp_alpha=3.5491428261697298, random_state=0),\n",
       " DecisionTreeRegressor(ccp_alpha=5.16416680118403, random_state=0),\n",
       " DecisionTreeRegressor(ccp_alpha=13.45470419868634, random_state=0),\n",
       " DecisionTreeRegressor(ccp_alpha=37.42402444694581, random_state=0)]"
      ]
     },
     "execution_count": 7,
     "metadata": {},
     "output_type": "execute_result"
    }
   ],
   "source": [
    "clfs = []\n",
    "\n",
    "for ccp_alpha in ccp_alphas:\n",
    "    clf = DecisionTreeRegressor(random_state=0, ccp_alpha=ccp_alpha)\n",
    "    clf.fit(X_train, y_train)\n",
    "    clfs.append(clf)\n",
    "\n",
    "clfs"
   ]
  },
  {
   "attachments": {},
   "cell_type": "markdown",
   "metadata": {},
   "source": [
    "### 4. Para cada árvore na lista, calcule o MSE da árvore."
   ]
  },
  {
   "cell_type": "code",
   "execution_count": 10,
   "metadata": {},
   "outputs": [
    {
     "name": "stdout",
     "output_type": "stream",
     "text": [
      "[0.0, 0.0009792843691148775, 0.0010922787193973632, 0.001325329566854987, 0.004503295668549899, 0.008691148775894535, 0.010168549905838037, 0.016241996233521662, 0.019690677966101702, 0.019690677966101702, 0.02265834902699311, 0.051728813559322046, 0.051728813559322046, 0.06283992467043316, 0.07092231638418084, 0.07965170775552136, 0.0899982797334493, 0.09870826090105757, 0.11059714978994646, 0.11682596334926851, 0.13884377565309777, 0.1648842652952823, 0.18353162876044238, 0.19885648751750448, 0.23464807571587235, 0.27420960003587125, 0.27420960003587125, 0.296998363375482, 0.296998363375482, 0.3128316967088154, 0.3128316967088154, 0.328995134965474, 0.3821242377365258, 0.40118261815083855, 0.41082480270827726, 0.45202698188503276, 0.45202698188503276, 0.46473904806743793, 0.46473904806743793, 0.5489904976660106, 0.5634992861154771, 0.5788806420476804, 0.7185651994864751, 0.8282934301384347, 0.8755815657316551, 0.8994081283717771, 0.9477878700989764, 0.974237964260935, 0.974237964260935, 1.027965163615253, 1.0551591372499045, 1.167367773246676, 1.228137659355545, 1.2590274898640197, 1.3875231180588006, 1.4565364144490909, 1.5776925975378804, 1.6198786320270055, 1.6627388015185312, 1.7062471191582043, 1.7506707134546802, 1.8004823895375426, 1.8004823895375426, 1.9035386849370586, 2.0610694114709074, 2.0610694114709074, 2.1154573587402106, 2.2336289352804313, 2.2951543590092447, 2.5459487288920895, 2.6754779190992455, 2.743988293648871, 2.8896285949671383, 2.8896285949671383, 3.0395544424247656, 3.1974531734802762, 3.1974531734802762, 3.368478417852978, 3.368478417852978, 3.568614168009915, 3.568614168009915, 3.791921193062702, 3.791921193062702, 4.140719185876713, 4.640488861632055, 4.773258645591934, 4.773258645591934, 5.081066095025288, 5.081066095025288, 5.697814840851302, 5.99679789169876, 6.3360578894831825, 6.3360578894831825, 7.111129129730696, 7.538336092720636, 8.486776485827031, 8.99511694015848, 8.99511694015848, 10.165860846221262, 10.165860846221262, 12.366463063232795, 12.366463063232795, 13.827022654300862, 15.33971475692517, 17.56982102670442, 26.28313065405787, 39.73783485274442, 77.16185929969038]\n",
      "[29.251315789473683, 29.246843932748536, 29.24756761695906, 29.249364491959067, 29.210596217105262, 29.204580135233915, 29.213348556286547, 29.229715515350875, 29.21307214912281, 29.21307214912281, 29.234419208901883, 29.27204572368421, 29.27204572368421, 29.25566231725146, 29.260186111111114, 29.225307366200887, 29.257654907122653, 29.142023054052473, 28.97814878504663, 28.902606021888733, 28.9242533730502, 28.913849498781193, 29.061488606968325, 28.949728738547275, 28.80508684242967, 28.762030618129312, 28.762030618129312, 28.756824924497085, 28.756824924497085, 29.18475255607603, 29.18475255607603, 29.139751149285257, 29.29513150484304, 29.296301095486317, 29.292558405427837, 29.056224503709256, 29.056224503709256, 29.019964642001415, 29.019964642001415, 29.16101178203742, 29.1680230312252, 29.1680230312252, 29.093907876802685, 29.029208252172747, 28.96811861401485, 29.094209038488735, 28.86874129547047, 28.509499701903223, 28.509499701903223, 28.34157636976335, 28.32546525865223, 28.228582278135466, 27.797692972364423, 27.854090998680213, 27.641328079477443, 27.582608361290365, 27.696726089181205, 27.26999416421307, 27.199813243160442, 27.090347833397608, 26.56551297840298, 26.61931414799362, 26.61931414799362, 26.483930246647997, 26.4488930545925, 26.4488930545925, 25.923893054592497, 26.01313923552101, 26.22373134078417, 26.075092766129796, 26.17645241525261, 25.685110108216566, 25.371418326679393, 25.371418326679393, 25.62692613917939, 25.92445851177755, 25.92445851177755, 25.89400646399938, 25.89400646399938, 25.728399322592622, 25.728399322592622, 25.776225248604852, 25.776225248604852, 25.78891499944905, 26.291368460630355, 30.89512338990936, 30.89512338990936, 30.69872745711597, 30.69872745711597, 30.709194420614487, 30.742352315351326, 30.302882551697667, 30.302882551697667, 30.58744982762559, 30.63339054068362, 31.178096361092276, 30.98148745923966, 30.98148745923966, 32.135175687020784, 32.135175687020784, 32.15066633714636, 32.15066633714636, 32.518456795434936, 35.43960137397101, 36.92632168423042, 47.76434592552134, 64.24541146746807, 101.33840831850766]\n"
     ]
    }
   ],
   "source": [
    "train_scores = [mean_squared_error(y_train , clf.predict(X_train)) for clf in clfs]\n",
    "test_scores  = [mean_squared_error(y_test  , clf.predict(X_test )) for clf in clfs]\n",
    "print(train_scores)\n",
    "print(test_scores)"
   ]
  },
  {
   "attachments": {},
   "cell_type": "markdown",
   "metadata": {},
   "source": [
    "### 5. Monte um gráfico do MSE pelo alpha, escolha um valor de alpha perto do ponto de mínimo do MSE"
   ]
  },
  {
   "cell_type": "code",
   "execution_count": 11,
   "metadata": {},
   "outputs": [
    {
     "data": {
      "image/png": "[encoded data removed]",
      "text/plain": [
       "<Figure size 640x480 with 1 Axes>"
      ]
     },
     "metadata": {},
     "output_type": "display_data"
    },
    {
     "data": {
      "text/html": [
       "<style>#sk-container-id-1 {color: black;}#sk-container-id-1 pre{padding: 0;}#sk-container-id-1 div.sk-toggleable {background-color: white;}#sk-container-id-1 label.sk-toggleable__label {cursor: pointer;display: block;width: 100%;margin-bottom: 0;padding: 0.3em;box-sizing: border-box;text-align: center;}#sk-container-id-1 label.sk-toggleable__label-arrow:before {content: \"▸\";float: left;margin-right: 0.25em;color: #696969;}#sk-container-id-1 label.sk-toggleable__label-arrow:hover:before {color: black;}#sk-container-id-1 div.sk-estimator:hover label.sk-toggleable__label-arrow:before {color: black;}#sk-container-id-1 div.sk-toggleable__content {max-height: 0;max-width: 0;overflow: hidden;text-align: left;background-color: #f0f8ff;}#sk-container-id-1 div.sk-toggleable__content pre {margin: 0.2em;color: black;border-radius: 0.25em;background-color: #f0f8ff;}#sk-container-id-1 input.sk-toggleable__control:checked~div.sk-toggleable__content {max-height: 200px;max-width: 100%;overflow: auto;}#sk-container-id-1 input.sk-toggleable__control:checked~label.sk-toggleable__label-arrow:before {content: \"▾\";}#sk-container-id-1 div.sk-estimator input.sk-toggleable__control:checked~label.sk-toggleable__label {background-color: #d4ebff;}#sk-container-id-1 div.sk-label input.sk-toggleable__control:checked~label.sk-toggleable__label {background-color: #d4ebff;}#sk-container-id-1 input.sk-hidden--visually {border: 0;clip: rect(1px 1px 1px 1px);clip: rect(1px, 1px, 1px, 1px);height: 1px;margin: -1px;overflow: hidden;padding: 0;position: absolute;width: 1px;}#sk-container-id-1 div.sk-estimator {font-family: monospace;background-color: #f0f8ff;border: 1px dotted black;border-radius: 0.25em;box-sizing: border-box;margin-bottom: 0.5em;}#sk-container-id-1 div.sk-estimator:hover {background-color: #d4ebff;}#sk-container-id-1 div.sk-parallel-item::after {content: \"\";width: 100%;border-bottom: 1px solid gray;flex-grow: 1;}#sk-container-id-1 div.sk-label:hover label.sk-toggleable__label {background-color: #d4ebff;}#sk-container-id-1 div.sk-serial::before {content: \"\";position: absolute;border-left: 1px solid gray;box-sizing: border-box;top: 0;bottom: 0;left: 50%;z-index: 0;}#sk-container-id-1 div.sk-serial {display: flex;flex-direction: column;align-items: center;background-color: white;padding-right: 0.2em;padding-left: 0.2em;position: relative;}#sk-container-id-1 div.sk-item {position: relative;z-index: 1;}#sk-container-id-1 div.sk-parallel {display: flex;align-items: stretch;justify-content: center;background-color: white;position: relative;}#sk-container-id-1 div.sk-item::before, #sk-container-id-1 div.sk-parallel-item::before {content: \"\";position: absolute;border-left: 1px solid gray;box-sizing: border-box;top: 0;bottom: 0;left: 50%;z-index: -1;}#sk-container-id-1 div.sk-parallel-item {display: flex;flex-direction: column;z-index: 1;position: relative;background-color: white;}#sk-container-id-1 div.sk-parallel-item:first-child::after {align-self: flex-end;width: 50%;}#sk-container-id-1 div.sk-parallel-item:last-child::after {align-self: flex-start;width: 50%;}#sk-container-id-1 div.sk-parallel-item:only-child::after {width: 0;}#sk-container-id-1 div.sk-dashed-wrapped {border: 1px dashed gray;margin: 0 0.4em 0.5em 0.4em;box-sizing: border-box;padding-bottom: 0.4em;background-color: white;}#sk-container-id-1 div.sk-label label {font-family: monospace;font-weight: bold;display: inline-block;line-height: 1.2em;}#sk-container-id-1 div.sk-label-container {text-align: center;}#sk-container-id-1 div.sk-container {/* jupyter's `normalize.less` sets `[hidden] { display: none; }` but bootstrap.min.css set `[hidden] { display: none !important; }` so we also need the `!important` here to be able to override the default hidden behavior on the sphinx rendered scikit-learn.org. See: https://github.com/scikit-learn/scikit-learn/issues/21755 */display: inline-block !important;position: relative;}#sk-container-id-1 div.sk-text-repr-fallback {display: none;}</style><div id=\"sk-container-id-1\" class=\"sk-top-container\"><div class=\"sk-text-repr-fallback\"><pre>DecisionTreeRegressor(random_state=0)</pre><b>In a Jupyter environment, please rerun this cell to show the HTML representation or trust the notebook. <br />On GitHub, the HTML representation is unable to render, please try loading this page with nbviewer.org.</b></div><div class=\"sk-container\" hidden><div class=\"sk-item\"><div class=\"sk-estimator sk-toggleable\"><input class=\"sk-toggleable__control sk-hidden--visually\" id=\"sk-estimator-id-1\" type=\"checkbox\" checked><label for=\"sk-estimator-id-1\" class=\"sk-toggleable__label sk-toggleable__label-arrow\">DecisionTreeRegressor</label><div class=\"sk-toggleable__content\"><pre>DecisionTreeRegressor(random_state=0)</pre></div></div></div></div></div>"
      ],
      "text/plain": [
       "DecisionTreeRegressor(random_state=0)"
      ]
     },
     "execution_count": 11,
     "metadata": {},
     "output_type": "execute_result"
    }
   ],
   "source": [
    "fig, ax = plt.subplots()\n",
    "ax.set_xlabel(\"alpha\")\n",
    "ax.set_ylabel(\"MSE\")\n",
    "ax.set_title(\"MSE x alpha do conjunto de dados de treino e teste\")\n",
    "ax.plot(ccp_alphas[:-1], train_scores[:-1], marker='o', label=\"treino\",\n",
    "        drawstyle=\"steps-post\")\n",
    "ax.plot(ccp_alphas[:-1], test_scores[:-1], marker='o', label=\"teste\",\n",
    "        drawstyle=\"steps-post\")\n",
    "ax.legend()\n",
    "plt.show()\n",
    "\n",
    "\n",
    "arvore_final = DecisionTreeRegressor(random_state=0, ccp_alpha=.00)\n",
    "arvore_final.fit(X_train,y_train)"
   ]
  },
  {
   "attachments": {},
   "cell_type": "markdown",
   "metadata": {},
   "source": [
    "### 6. Calcule o R-quadrado dessa árvore encontrada no item acima"
   ]
  },
  {
   "cell_type": "code",
   "execution_count": 12,
   "metadata": {},
   "outputs": [
    {
     "name": "stdout",
     "output_type": "stream",
     "text": [
      "R-quadrado an base de testes: 0.71\n"
     ]
    }
   ],
   "source": [
    "print(f\"R-quadrado an base de testes: {arvore_final.score(X_test,y_test):.2f}\")"
   ]
  },
  {
   "attachments": {},
   "cell_type": "markdown",
   "metadata": {},
   "source": [
    "### 7. Visualize esta árvore."
   ]
  },
  {
   "cell_type": "code",
   "execution_count": 13,
   "metadata": {},
   "outputs": [
    {
     "data": {
      "image/svg+xml": [
       "<?xml version=\"1.0\" encoding=\"UTF-8\" standalone=\"no\"?>\n",
       "<!DOCTYPE svg PUBLIC \"-//W3C//DTD SVG 1.1//EN\"\n",
       " \"http://www.w3.org/Graphics/SVG/1.1/DTD/svg11.dtd\">\n",
       "<!-- Generated by graphviz version 8.1.0 (20230707.0739)\n",
       " -->\n",
       "<!-- Title: Tree Pages: 1 -->\n",
       "<svg width=\"722pt\" height=\"286pt\"\n",
       " viewBox=\"0.00 0.00 721.62 285.50\" xmlns=\"http://www.w3.org/2000/svg\" xmlns:xlink=\"http://www.w3.org/1999/xlink\">\n",
       "<g id=\"graph0\" class=\"graph\" transform=\"scale(1 1) rotate(0) translate(4 281.5)\">\n",
       "<title>Tree</title>\n",
       "<polygon fill=\"white\" stroke=\"none\" points=\"-4,4 -4,-281.5 717.62,-281.5 717.62,4 -4,4\"/>\n",
       "<!-- 0 -->\n",
       "<g id=\"node1\" class=\"node\">\n",
       "<title>0</title>\n",
       "<polygon fill=\"#f8ddca\" stroke=\"black\" points=\"443.75,-277.5 277,-277.5 277,-203.5 443.75,-203.5 443.75,-277.5\"/>\n",
       "<text text-anchor=\"middle\" x=\"360.38\" y=\"-260.2\" font-family=\"Helvetica,sans-Serif\" font-size=\"14.00\">x[5] &lt;= 6.945</text>\n",
       "<text text-anchor=\"middle\" x=\"360.38\" y=\"-243.7\" font-family=\"Helvetica,sans-Serif\" font-size=\"14.00\">squared_error = 77.162</text>\n",
       "<text text-anchor=\"middle\" x=\"360.38\" y=\"-227.2\" font-family=\"Helvetica,sans-Serif\" font-size=\"14.00\">samples = 354</text>\n",
       "<text text-anchor=\"middle\" x=\"360.38\" y=\"-210.7\" font-family=\"Helvetica,sans-Serif\" font-size=\"14.00\">value = 22.602</text>\n",
       "</g>\n",
       "<!-- 1 -->\n",
       "<g id=\"node2\" class=\"node\">\n",
       "<title>1</title>\n",
       "<polygon fill=\"#fae9dc\" stroke=\"black\" points=\"351.75,-167.5 185,-167.5 185,-93.5 351.75,-93.5 351.75,-167.5\"/>\n",
       "<text text-anchor=\"middle\" x=\"268.38\" y=\"-150.2\" font-family=\"Helvetica,sans-Serif\" font-size=\"14.00\">x[12] &lt;= 14.75</text>\n",
       "<text text-anchor=\"middle\" x=\"268.38\" y=\"-133.7\" font-family=\"Helvetica,sans-Serif\" font-size=\"14.00\">squared_error = 33.675</text>\n",
       "<text text-anchor=\"middle\" x=\"268.38\" y=\"-117.2\" font-family=\"Helvetica,sans-Serif\" font-size=\"14.00\">samples = 298</text>\n",
       "<text text-anchor=\"middle\" x=\"268.38\" y=\"-100.7\" font-family=\"Helvetica,sans-Serif\" font-size=\"14.00\">value = 19.95</text>\n",
       "</g>\n",
       "<!-- 0&#45;&gt;1 -->\n",
       "<g id=\"edge1\" class=\"edge\">\n",
       "<title>0&#45;&gt;1</title>\n",
       "<path fill=\"none\" stroke=\"black\" d=\"M329.48,-203.24C322.05,-194.51 314.02,-185.09 306.31,-176.03\"/>\n",
       "<polygon fill=\"black\" stroke=\"black\" points=\"308.49,-174.19 299.34,-168.85 303.16,-178.73 308.49,-174.19\"/>\n",
       "<text text-anchor=\"middle\" x=\"297.35\" y=\"-187.72\" font-family=\"Helvetica,sans-Serif\" font-size=\"14.00\">True</text>\n",
       "</g>\n",
       "<!-- 4 -->\n",
       "<g id=\"node5\" class=\"node\">\n",
       "<title>4</title>\n",
       "<polygon fill=\"#eca16b\" stroke=\"black\" points=\"536.75,-167.5 370,-167.5 370,-93.5 536.75,-93.5 536.75,-167.5\"/>\n",
       "<text text-anchor=\"middle\" x=\"453.38\" y=\"-150.2\" font-family=\"Helvetica,sans-Serif\" font-size=\"14.00\">x[5] &lt;= 7.437</text>\n",
       "<text text-anchor=\"middle\" x=\"453.38\" y=\"-133.7\" font-family=\"Helvetica,sans-Serif\" font-size=\"14.00\">squared_error = 71.999</text>\n",
       "<text text-anchor=\"middle\" x=\"453.38\" y=\"-117.2\" font-family=\"Helvetica,sans-Serif\" font-size=\"14.00\">samples = 56</text>\n",
       "<text text-anchor=\"middle\" x=\"453.38\" y=\"-100.7\" font-family=\"Helvetica,sans-Serif\" font-size=\"14.00\">value = 36.714</text>\n",
       "</g>\n",
       "<!-- 0&#45;&gt;4 -->\n",
       "<g id=\"edge4\" class=\"edge\">\n",
       "<title>0&#45;&gt;4</title>\n",
       "<path fill=\"none\" stroke=\"black\" d=\"M391.6,-203.24C399.12,-194.51 407.23,-185.09 415.03,-176.03\"/>\n",
       "<polygon fill=\"black\" stroke=\"black\" points=\"418.2,-178.71 422.07,-168.85 412.9,-174.14 418.2,-178.71\"/>\n",
       "<text text-anchor=\"middle\" x=\"423.93\" y=\"-187.73\" font-family=\"Helvetica,sans-Serif\" font-size=\"14.00\">False</text>\n",
       "</g>\n",
       "<!-- 2 -->\n",
       "<g id=\"node3\" class=\"node\">\n",
       "<title>2</title>\n",
       "<polygon fill=\"#f8dbc7\" stroke=\"black\" points=\"166.75,-57.5 0,-57.5 0,0 166.75,0 166.75,-57.5\"/>\n",
       "<text text-anchor=\"middle\" x=\"83.38\" y=\"-40.2\" font-family=\"Helvetica,sans-Serif\" font-size=\"14.00\">squared_error = 18.296</text>\n",
       "<text text-anchor=\"middle\" x=\"83.38\" y=\"-23.7\" font-family=\"Helvetica,sans-Serif\" font-size=\"14.00\">samples = 187</text>\n",
       "<text text-anchor=\"middle\" x=\"83.38\" y=\"-7.2\" font-family=\"Helvetica,sans-Serif\" font-size=\"14.00\">value = 23.03</text>\n",
       "</g>\n",
       "<!-- 1&#45;&gt;2 -->\n",
       "<g id=\"edge2\" class=\"edge\">\n",
       "<title>1&#45;&gt;2</title>\n",
       "<path fill=\"none\" stroke=\"black\" d=\"M200.8,-93.06C182.52,-83.21 162.83,-72.59 144.9,-62.92\"/>\n",
       "<polygon fill=\"black\" stroke=\"black\" points=\"147.16,-59.63 136.7,-57.96 143.84,-65.79 147.16,-59.63\"/>\n",
       "</g>\n",
       "<!-- 3 -->\n",
       "<g id=\"node4\" class=\"node\">\n",
       "<title>3</title>\n",
       "<polygon fill=\"#ffffff\" stroke=\"black\" points=\"351.75,-57.5 185,-57.5 185,0 351.75,0 351.75,-57.5\"/>\n",
       "<text text-anchor=\"middle\" x=\"268.38\" y=\"-40.2\" font-family=\"Helvetica,sans-Serif\" font-size=\"14.00\">squared_error = 16.675</text>\n",
       "<text text-anchor=\"middle\" x=\"268.38\" y=\"-23.7\" font-family=\"Helvetica,sans-Serif\" font-size=\"14.00\">samples = 111</text>\n",
       "<text text-anchor=\"middle\" x=\"268.38\" y=\"-7.2\" font-family=\"Helvetica,sans-Serif\" font-size=\"14.00\">value = 14.761</text>\n",
       "</g>\n",
       "<!-- 1&#45;&gt;3 -->\n",
       "<g id=\"edge3\" class=\"edge\">\n",
       "<title>1&#45;&gt;3</title>\n",
       "<path fill=\"none\" stroke=\"black\" d=\"M268.38,-93.21C268.38,-85.16 268.38,-76.61 268.38,-68.48\"/>\n",
       "<polygon fill=\"black\" stroke=\"black\" points=\"271.88,-68.73 268.38,-58.73 264.88,-68.73 271.88,-68.73\"/>\n",
       "</g>\n",
       "<!-- 5 -->\n",
       "<g id=\"node6\" class=\"node\">\n",
       "<title>5</title>\n",
       "<polygon fill=\"#efb489\" stroke=\"black\" points=\"536.75,-57.5 370,-57.5 370,0 536.75,0 536.75,-57.5\"/>\n",
       "<text text-anchor=\"middle\" x=\"453.38\" y=\"-40.2\" font-family=\"Helvetica,sans-Serif\" font-size=\"14.00\">squared_error = 37.185</text>\n",
       "<text text-anchor=\"middle\" x=\"453.38\" y=\"-23.7\" font-family=\"Helvetica,sans-Serif\" font-size=\"14.00\">samples = 35</text>\n",
       "<text text-anchor=\"middle\" x=\"453.38\" y=\"-7.2\" font-family=\"Helvetica,sans-Serif\" font-size=\"14.00\">value = 32.289</text>\n",
       "</g>\n",
       "<!-- 4&#45;&gt;5 -->\n",
       "<g id=\"edge5\" class=\"edge\">\n",
       "<title>4&#45;&gt;5</title>\n",
       "<path fill=\"none\" stroke=\"black\" d=\"M453.38,-93.21C453.38,-85.16 453.38,-76.61 453.38,-68.48\"/>\n",
       "<polygon fill=\"black\" stroke=\"black\" points=\"456.88,-68.73 453.38,-58.73 449.88,-68.73 456.88,-68.73\"/>\n",
       "</g>\n",
       "<!-- 6 -->\n",
       "<g id=\"node7\" class=\"node\">\n",
       "<title>6</title>\n",
       "<polygon fill=\"#e58139\" stroke=\"black\" points=\"713.62,-57.5 555.12,-57.5 555.12,0 713.62,0 713.62,-57.5\"/>\n",
       "<text text-anchor=\"middle\" x=\"634.38\" y=\"-40.2\" font-family=\"Helvetica,sans-Serif\" font-size=\"14.00\">squared_error = 42.97</text>\n",
       "<text text-anchor=\"middle\" x=\"634.38\" y=\"-23.7\" font-family=\"Helvetica,sans-Serif\" font-size=\"14.00\">samples = 21</text>\n",
       "<text text-anchor=\"middle\" x=\"634.38\" y=\"-7.2\" font-family=\"Helvetica,sans-Serif\" font-size=\"14.00\">value = 44.09</text>\n",
       "</g>\n",
       "<!-- 4&#45;&gt;6 -->\n",
       "<g id=\"edge6\" class=\"edge\">\n",
       "<title>4&#45;&gt;6</title>\n",
       "<path fill=\"none\" stroke=\"black\" d=\"M519.49,-93.06C537.21,-83.3 556.28,-72.79 573.7,-63.19\"/>\n",
       "<polygon fill=\"black\" stroke=\"black\" points=\"575.11,-65.86 582.18,-57.96 571.73,-59.72 575.11,-65.86\"/>\n",
       "</g>\n",
       "</g>\n",
       "</svg>\n"
      ],
      "text/plain": [
       "<graphviz.sources.Source at 0x207a4c0d3c0>"
      ]
     },
     "execution_count": 13,
     "metadata": {},
     "output_type": "execute_result"
    }
   ],
   "source": [
    "import graphviz\n",
    "# DOT data\n",
    "dot_data = tree.export_graphviz(arvore, out_file=None, \n",
    "                                feature_names=X.columns.name,\n",
    "                                filled=True)\n",
    "\n",
    "# Draw graph\n",
    "graph = graphviz.Source(dot_data, format=\"png\") \n",
    "graph"
   ]
  }
 ],
 "metadata": {
  "kernelspec": {
   "display_name": "Python 3",
   "language": "python",
   "name": "python3"
  },
  "language_info": {
   "codemirror_mode": {
    "name": "ipython",
    "version": 3
   },
   "file_extension": ".py",
   "mimetype": "text/x-python",
   "name": "python",
   "nbconvert_exporter": "python",
   "pygments_lexer": "ipython3",
   "version": "3.10.9"
  }
 },
 "nbformat": 4,
 "nbformat_minor": 4
}
